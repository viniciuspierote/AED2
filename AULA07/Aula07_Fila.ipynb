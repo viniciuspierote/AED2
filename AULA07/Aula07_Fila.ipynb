{
 "cells": [
  {
   "cell_type": "markdown",
   "metadata": {},
   "source": [
    "![Algoritmos e Estrutura de Dados II - Prof Piva](AED2_banner.jpg)"
   ]
  },
  {
   "cell_type": "markdown",
   "metadata": {
    "id": "3L3hMZxPloS9"
   },
   "source": [
    "## Aula 7 - Filas"
   ]
  },
  {
   "cell_type": "markdown",
   "metadata": {},
   "source": [
    "### Primeira Implementação"
   ]
  },
  {
   "cell_type": "code",
   "execution_count": 1,
   "metadata": {},
   "outputs": [],
   "source": [
    "# Implementação da classe Fila\n",
    "class Queue:\n",
    "    # Inicia com uma fila vazia\n",
    "    def __init__(self):\n",
    "        self.itens = []\n",
    "        \n",
    "    # Verifica se fila está vazia\n",
    "    def is_empty(self):\n",
    "        return self.itens == []\n",
    "        \n",
    "    # Adiciona elemento no início da fila\n",
    "    def enqueue(self, item):\n",
    "        self.itens.insert(0, item)\n",
    "        print('ENQUEUE %s' %item)\n",
    "        \n",
    "    # Remove elemento do final da fila\n",
    "    def dequeue(self):\n",
    "        print('DEQUEUE')\n",
    "        return self.itens.pop()\n",
    "        \n",
    "    # Retorna o número de elementos da fila\n",
    "    def size(self):\n",
    "        return len(self.itens)\n",
    "        \n",
    "    # Imprime a fila na tela\n",
    "    def print_queue(self):\n",
    "        print(self.itens)"
   ]
  },
  {
   "cell_type": "code",
   "execution_count": 3,
   "metadata": {},
   "outputs": [],
   "source": [
    "# TESTANDO\n",
    "Q = Queue()"
   ]
  },
  {
   "cell_type": "code",
   "execution_count": 7,
   "metadata": {},
   "outputs": [
    {
     "name": "stdout",
     "output_type": "stream",
     "text": [
      "<__main__.Queue object at 0x000002C6351C7F20>\n"
     ]
    }
   ],
   "source": [
    "print(Q)"
   ]
  },
  {
   "cell_type": "code",
   "execution_count": 5,
   "metadata": {},
   "outputs": [
    {
     "name": "stdout",
     "output_type": "stream",
     "text": [
      "[]\n"
     ]
    }
   ],
   "source": [
    "Q.print_queue()"
   ]
  },
  {
   "cell_type": "code",
   "execution_count": 9,
   "metadata": {},
   "outputs": [
    {
     "name": "stdout",
     "output_type": "stream",
     "text": [
      "ENQUEUE 1\n"
     ]
    }
   ],
   "source": [
    "Q.enqueue(1)"
   ]
  },
  {
   "cell_type": "code",
   "execution_count": 11,
   "metadata": {},
   "outputs": [
    {
     "name": "stdout",
     "output_type": "stream",
     "text": [
      "ENQUEUE 2\n"
     ]
    }
   ],
   "source": [
    "Q.enqueue(2)"
   ]
  },
  {
   "cell_type": "code",
   "execution_count": 13,
   "metadata": {},
   "outputs": [
    {
     "name": "stdout",
     "output_type": "stream",
     "text": [
      "ENQUEUE 3\n"
     ]
    }
   ],
   "source": [
    "Q.enqueue(3)"
   ]
  },
  {
   "cell_type": "code",
   "execution_count": 15,
   "metadata": {},
   "outputs": [
    {
     "name": "stdout",
     "output_type": "stream",
     "text": [
      "[3, 2, 1]\n"
     ]
    }
   ],
   "source": [
    "Q.print_queue()"
   ]
  },
  {
   "cell_type": "code",
   "execution_count": 17,
   "metadata": {},
   "outputs": [
    {
     "name": "stdout",
     "output_type": "stream",
     "text": [
      "DEQUEUE\n"
     ]
    },
    {
     "data": {
      "text/plain": [
       "1"
      ]
     },
     "execution_count": 17,
     "metadata": {},
     "output_type": "execute_result"
    }
   ],
   "source": [
    "Q.dequeue()"
   ]
  },
  {
   "cell_type": "code",
   "execution_count": 19,
   "metadata": {},
   "outputs": [
    {
     "name": "stdout",
     "output_type": "stream",
     "text": [
      "DEQUEUE\n"
     ]
    },
    {
     "data": {
      "text/plain": [
       "2"
      ]
     },
     "execution_count": 19,
     "metadata": {},
     "output_type": "execute_result"
    }
   ],
   "source": [
    "Q.dequeue()"
   ]
  },
  {
   "cell_type": "code",
   "execution_count": 21,
   "metadata": {},
   "outputs": [
    {
     "name": "stdout",
     "output_type": "stream",
     "text": [
      "[3]\n"
     ]
    }
   ],
   "source": [
    "Q.print_queue()"
   ]
  },
  {
   "cell_type": "code",
   "execution_count": 23,
   "metadata": {},
   "outputs": [
    {
     "name": "stdout",
     "output_type": "stream",
     "text": [
      "ENQUEUE 7\n"
     ]
    }
   ],
   "source": [
    "Q.enqueue(7)"
   ]
  },
  {
   "cell_type": "code",
   "execution_count": 25,
   "metadata": {},
   "outputs": [
    {
     "name": "stdout",
     "output_type": "stream",
     "text": [
      "ENQUEUE 8\n"
     ]
    }
   ],
   "source": [
    "Q.enqueue(8)"
   ]
  },
  {
   "cell_type": "code",
   "execution_count": 27,
   "metadata": {},
   "outputs": [
    {
     "name": "stdout",
     "output_type": "stream",
     "text": [
      "ENQUEUE 9\n"
     ]
    }
   ],
   "source": [
    "Q.enqueue(9)"
   ]
  },
  {
   "cell_type": "code",
   "execution_count": 29,
   "metadata": {},
   "outputs": [
    {
     "name": "stdout",
     "output_type": "stream",
     "text": [
      "[9, 8, 7, 3]\n"
     ]
    }
   ],
   "source": [
    "Q.print_queue()"
   ]
  },
  {
   "cell_type": "code",
   "execution_count": 31,
   "metadata": {},
   "outputs": [
    {
     "name": "stdout",
     "output_type": "stream",
     "text": [
      "False\n"
     ]
    }
   ],
   "source": [
    "print(Q.is_empty())"
   ]
  },
  {
   "cell_type": "markdown",
   "metadata": {},
   "source": [
    "### Segunda Implementação\n",
    "Listas Circulares"
   ]
  },
  {
   "cell_type": "code",
   "execution_count": 33,
   "metadata": {},
   "outputs": [],
   "source": [
    "class FilaCircular:\n",
    "\n",
    "  def __init__(self, capacidade):\n",
    "    self.capacidade = capacidade\n",
    "    self.inicio = 0\n",
    "    self.final = -1\n",
    "    self.numero_elementos = 0\n",
    "    self.valores = np.empty(self.capacidade, dtype=int)\n",
    "\n",
    "  def __fila_vazia(self):\n",
    "    return self.numero_elementos == 0\n",
    "\n",
    "  def __fila_cheia(self):\n",
    "    return self.numero_elementos == self.capacidade\n",
    "\n",
    "  def enfileirar(self, valor):\n",
    "    if self.__fila_cheia():\n",
    "      print('A fila está cheia')\n",
    "      return\n",
    "\n",
    "    if self.final == self.capacidade - 1:\n",
    "      self.final = -1\n",
    "    self.final += 1\n",
    "    self.valores[self.final] = valor\n",
    "    self.numero_elementos += 1\n",
    "\n",
    "  def desenfileirar(self):\n",
    "    if self.__fila_vazia():\n",
    "      print('A fila já está vazia')\n",
    "      return\n",
    "\n",
    "    temp = self.valores[self.inicio]\n",
    "    self.inicio += 1\n",
    "    #if self.inicio == self.capacidade - 1: Corrigido em 05/05/2022\n",
    "    if self.inicio == self.capacidade:\n",
    "      self.inicio = 0\n",
    "    self.numero_elementos -= 1\n",
    "    return temp\n",
    "\n",
    "  def primeiro(self):\n",
    "    if self.__fila_vazia():\n",
    "      return -1\n",
    "    return self.valores[self.inicio]\n"
   ]
  },
  {
   "cell_type": "code",
   "execution_count": null,
   "metadata": {},
   "outputs": [],
   "source": [
    "fila = FilaCircular(5)"
   ]
  },
  {
   "cell_type": "code",
   "execution_count": null,
   "metadata": {},
   "outputs": [],
   "source": [
    "fila.primeiro()"
   ]
  },
  {
   "cell_type": "code",
   "execution_count": null,
   "metadata": {},
   "outputs": [],
   "source": [
    "# 1\n",
    "fila.enfileirar(1)\n",
    "fila.primeiro()"
   ]
  },
  {
   "cell_type": "code",
   "execution_count": null,
   "metadata": {},
   "outputs": [],
   "source": [
    "# 2 1\n",
    "fila.enfileirar(2)\n",
    "fila.primeiro()"
   ]
  },
  {
   "cell_type": "code",
   "execution_count": null,
   "metadata": {},
   "outputs": [],
   "source": [
    "# 5 4 3 2 1\n",
    "fila.enfileirar(3)\n",
    "fila.enfileirar(4)\n",
    "fila.enfileirar(5)"
   ]
  },
  {
   "cell_type": "code",
   "execution_count": null,
   "metadata": {},
   "outputs": [],
   "source": [
    "fila.enfileirar(6)"
   ]
  },
  {
   "cell_type": "code",
   "execution_count": null,
   "metadata": {},
   "outputs": [],
   "source": [
    "# 5 4 3\n",
    "fila.desenfileirar()\n",
    "fila.desenfileirar()\n",
    "fila.primeiro()"
   ]
  },
  {
   "cell_type": "code",
   "execution_count": null,
   "metadata": {},
   "outputs": [],
   "source": [
    "# 7 6 5 4 3\n",
    "fila.enfileirar(6)\n",
    "fila.enfileirar(7)"
   ]
  },
  {
   "cell_type": "code",
   "execution_count": null,
   "metadata": {},
   "outputs": [],
   "source": [
    "fila.primeiro()"
   ]
  },
  {
   "cell_type": "code",
   "execution_count": null,
   "metadata": {},
   "outputs": [],
   "source": [
    "fila.valores"
   ]
  },
  {
   "cell_type": "code",
   "execution_count": null,
   "metadata": {},
   "outputs": [],
   "source": [
    "fila.inicio, fila.final"
   ]
  },
  {
   "cell_type": "code",
   "execution_count": null,
   "metadata": {},
   "outputs": [],
   "source": [
    "fila.valores[fila.final]"
   ]
  },
  {
   "cell_type": "code",
   "execution_count": null,
   "metadata": {},
   "outputs": [],
   "source": [
    "fila.valores[fila.inicio]"
   ]
  },
  {
   "cell_type": "markdown",
   "metadata": {},
   "source": [
    "### Terceira Implementação\n",
    "**Listas com Prioridade (Priority Queue)**"
   ]
  },
  {
   "cell_type": "markdown",
   "metadata": {},
   "source": [
    "Uma fila de prioridades é uma extensão da fila tradicional em que, para cada elemento inserido, uma prioridade p deve ser associada. \n",
    "\n",
    "Por convenção, inteiros positivos são utilizados para representar a prioridade, sendo que quanto menor o inteiro, maior a prioridade (ou seja, p = 2 tem\n",
    "prioridade sobre p = 5). \n",
    "\n",
    "A principal diferença em relação a fila tradicional é o método enqueue(), que todo elemento deve ser inserido no final da fila, mas a remoção não é feita no início da fila e sim descobrindo o elemento que possui a maior prioridade. Quanto maior a prioridade, menor o inteiro que a codifica.\n",
    "\n",
    "A primeira coisa que devemos fazer é criar uma classe para definir a estrutura interna de um elemento da fila de prioridades. Isso é necessário pois além de armazenar a informação referente ao elemento em si (um número, uma string, etc), precisamos de uma variável para armazenar o prioridade. \n",
    "\n",
    "Vamos implementá-la!!"
   ]
  },
  {
   "cell_type": "code",
   "execution_count": 1,
   "metadata": {
    "id": "7R1oTn1dqV1l"
   },
   "outputs": [],
   "source": [
    "# Implementa classe que será utilizada como elemento da fila\n",
    "class Element:\n",
    "    def __init__(self, valor, prioridade):\n",
    "        self.item = valor\n",
    "        self.prioridade = prioridade\n",
    "    \n",
    "    def __str__(self):\n",
    "        return str(self.item) + ' ' + str(self.prioridade)"
   ]
  },
  {
   "cell_type": "code",
   "execution_count": 2,
   "metadata": {
    "id": "uTsNap9FqYXN"
   },
   "outputs": [],
   "source": [
    "# Implementação da classe fila\n",
    "class PriorityQueue:\n",
    "    # Inicia com uma fila vazia\n",
    "    def __init__(self):\n",
    "        self.itens = []\n",
    "        \n",
    "    # Verifica se fila está vazia\n",
    "    def is_empty(self):\n",
    "        return self.itens == []\n",
    "        \n",
    "    # Retorna o número de elementos da fila\n",
    "    def size(self):\n",
    "        return len(self.itens)\n",
    "        \n",
    "    # Adiciona elemento no final da fila com sua prioridade\n",
    "    def enqueue(self, item, prioridade):\n",
    "        elemento = Element(item, prioridade)\n",
    "        self.itens.insert(0, elemento)\n",
    "        print('ENQUEUE %s' %elemento)\n",
    "        \n",
    "    # Remove elemento com maior prioridade\n",
    "    def dequeue(self):\n",
    "        if self.is_empty():\n",
    "            print('EMPTY QUEUE')\n",
    "        else:\n",
    "            print('DEQUEUE')\n",
    "            posicao = 0\n",
    "            menor = self.itens[posicao].prioridade\n",
    "    \n",
    "            # Encontra o elemento de maior prioridade\n",
    "            for i in range(self.size()):\n",
    "                if self.itens[i].prioridade < menor:\n",
    "                    posicao = i\n",
    "                    menor = self.itens[i].prioridade\n",
    "                    \n",
    "            # Remove elemento da fila\n",
    "            removido = self.itens.pop(posicao)\n",
    "            return removido.item\n",
    "            \n",
    "    # Imprime pilha na tela\n",
    "    def print_queue(self):\n",
    "        L = []\n",
    "        for x in self.itens:\n",
    "            L.append(x.item)\n",
    "        print(L)"
   ]
  },
  {
   "cell_type": "code",
   "execution_count": 3,
   "metadata": {},
   "outputs": [],
   "source": [
    "#TESTANDO\n",
    "PQ = PriorityQueue()"
   ]
  },
  {
   "cell_type": "code",
   "execution_count": 4,
   "metadata": {},
   "outputs": [
    {
     "name": "stdout",
     "output_type": "stream",
     "text": [
      "[]\n"
     ]
    }
   ],
   "source": [
    "PQ.print_queue()"
   ]
  },
  {
   "cell_type": "code",
   "execution_count": 5,
   "metadata": {},
   "outputs": [
    {
     "name": "stdout",
     "output_type": "stream",
     "text": [
      "ENQUEUE a 4\n"
     ]
    }
   ],
   "source": [
    "PQ.enqueue('a', 4)"
   ]
  },
  {
   "cell_type": "code",
   "execution_count": 6,
   "metadata": {},
   "outputs": [
    {
     "name": "stdout",
     "output_type": "stream",
     "text": [
      "ENQUEUE b 2\n"
     ]
    }
   ],
   "source": [
    "PQ.enqueue('b', 2)"
   ]
  },
  {
   "cell_type": "code",
   "execution_count": 7,
   "metadata": {},
   "outputs": [
    {
     "name": "stdout",
     "output_type": "stream",
     "text": [
      "ENQUEUE c 3\n"
     ]
    }
   ],
   "source": [
    "PQ.enqueue('c', 3)"
   ]
  },
  {
   "cell_type": "code",
   "execution_count": 8,
   "metadata": {},
   "outputs": [
    {
     "name": "stdout",
     "output_type": "stream",
     "text": [
      "['c', 'b', 'a']\n"
     ]
    }
   ],
   "source": [
    "PQ.print_queue()"
   ]
  },
  {
   "cell_type": "code",
   "execution_count": 9,
   "metadata": {},
   "outputs": [
    {
     "name": "stdout",
     "output_type": "stream",
     "text": [
      "DEQUEUE\n"
     ]
    },
    {
     "data": {
      "text/plain": [
       "'b'"
      ]
     },
     "execution_count": 9,
     "metadata": {},
     "output_type": "execute_result"
    }
   ],
   "source": [
    "PQ.dequeue()"
   ]
  },
  {
   "cell_type": "code",
   "execution_count": 10,
   "metadata": {},
   "outputs": [
    {
     "name": "stdout",
     "output_type": "stream",
     "text": [
      "['c', 'a']\n"
     ]
    }
   ],
   "source": [
    "PQ.print_queue()"
   ]
  },
  {
   "cell_type": "markdown",
   "metadata": {},
   "source": [
    "# Vamos à Prática!\n",
    "## Exercício\n",
    "### Jogo: Batata Quente"
   ]
  },
  {
   "attachments": {},
   "cell_type": "markdown",
   "metadata": {},
   "source": [
    "Neste jogo, as crianças formam um círculo e passam um item qualquer (batata) cada um para o seu vizinho da frente o mais rápido possível. \r\n",
    "Em um certo momento do jogo, essa ação é interrompida (queimou) e a criança que estiver com o item (batata) na mão é excluída da roda. \r\n",
    "O jogo então prossegue até que reste apenas uma única criança, que é a vencedora.\r\n",
    "Para simular um círculo (roda), utilizaremos uma fila da seguinte maneira: a criança que está com a batata na mão será sempre a quela que estiver no início da fila. Após passar a batata, a simulação deve instantaneamente remover e inserir a criança, colocando-a novamente no final da fila. Ela então vai esperar até que todas as outras assumam o início da fila, antes de assumir essa posição novamente. \r\n",
    "Após um número pré estabelecido MAX de operações enqueue/dequeue, a criança que ocupar o início da fila será removida e outro ciclo da brincadeira é realizado. \r\n",
    "O processo continua até que a fila tenha possua tamanhoum. \r\n"
   ]
  },
  {
   "cell_type": "markdown",
   "metadata": {},
   "source": [
    "**Utilização do classe Stack..**"
   ]
  },
  {
   "cell_type": "code",
   "execution_count": null,
   "metadata": {},
   "outputs": [],
   "source": [
    "# Utilização da classe QUEUE.\n",
    "# Simula o jogo batata_quente\n",
    "def batata_quente(nomes, MAX):\n",
    "    # Cria fila para simular roda\n",
    "    fila = Queue()\n",
    "\n",
    "    # Coloca os N nomes em cada posição\n",
    "    for nome in nomes:\n",
    "        fila.enqueue(nome)\n",
    "        \n",
    "    # Inicia a lógica do jogo\n",
    "    while fila.size() > 1:\n",
    "        # Para simular MAX passagens da batata\n",
    "        for i in range(MAX):\n",
    "            # Remove o primeiro e coloca no final\n",
    "            fila.enqueue(fila.dequeue())\n",
    "    \n",
    "           # Quem parar no ínicio da fila, está com batata\n",
    "           # Deve ser eliminado da fila\n",
    "        fila.dequeue()\n",
    "    \n",
    "    # Após N-1 rodadas, retorna a fila com o vencedor\n",
    "    vencedor = fila.dequeue()\n",
    "    return vencedor"
   ]
  },
  {
   "attachments": {},
   "cell_type": "markdown",
   "metadata": {},
   "source": [
    "### Testando!\n",
    "['Alex','Julia','Carlos','Maria','Ana','Caio']"
   ]
  },
  {
   "cell_type": "code",
   "execution_count": null,
   "metadata": {},
   "outputs": [],
   "source": [
    "# TESTANDO\n",
    "v = batata_quente(['Alex','Julia','Carlos','Maria','Ana','Caio'], 7) \n",
    "print(f\"O vencedor é {v}\") "
   ]
  },
  {
   "cell_type": "code",
   "execution_count": 39,
   "metadata": {},
   "outputs": [
    {
     "name": "stdout",
     "output_type": "stream",
     "text": [
      "A criança vencedora é: João\n"
     ]
    }
   ],
   "source": [
    "# Classe Queue para simular a fila\n",
    "class Queue:\n",
    "    def __init__(self):\n",
    "        self.items = []\n",
    "    \n",
    "    # Método para adicionar um item no final da fila\n",
    "    def enqueue(self, item):\n",
    "        self.items.append(item)\n",
    "    \n",
    "    # Método para remover e retornar o primeiro item da fila\n",
    "    def dequeue(self):\n",
    "        if self.size() > 0:\n",
    "            return self.items.pop(0)\n",
    "        return None\n",
    "    \n",
    "    # Método para verificar o tamanho da fila\n",
    "    def size(self):\n",
    "        return len(self.items)\n",
    "\n",
    "# Função para simular o jogo Batata Quente\n",
    "def batata_quente(nomes, MAX):\n",
    "    # Cria a fila para simular a roda\n",
    "    fila = Queue()\n",
    "\n",
    "    # Coloca os N nomes em cada posição da fila\n",
    "    for nome in nomes:\n",
    "        fila.enqueue(nome)\n",
    "        \n",
    "    # Inicia a lógica do jogo\n",
    "    while fila.size() > 1:\n",
    "        # Para simular MAX passagens da batata\n",
    "        for i in range(MAX):\n",
    "            # Remove o primeiro e coloca no final\n",
    "            fila.enqueue(fila.dequeue())\n",
    "        \n",
    "        # Quem parar no início da fila, está com a batata\n",
    "        # Deve ser eliminado da fila\n",
    "        fila.dequeue()\n",
    "    \n",
    "    # Após N-1 rodadas, retorna o vencedor (último item na fila)\n",
    "    vencedor = fila.dequeue()\n",
    "    return vencedor\n",
    "\n",
    "# Exemplo de uso\n",
    "nomes = ['João', 'Maria', 'Pedro', 'Ana', 'Lucas']\n",
    "MAX = 3  # Número máximo de passagens da batata\n",
    "\n",
    "vencedor = batata_quente(nomes, MAX)\n",
    "print(f'A criança vencedora é: {vencedor}')"
   ]
  },
  {
   "cell_type": "markdown",
   "metadata": {},
   "source": [
    "### Fim Teoria Aula 7"
   ]
  }
 ],
 "metadata": {
  "colab": {
   "provenance": []
  },
  "kernelspec": {
   "display_name": "Python [conda env:base] *",
   "language": "python",
   "name": "conda-base-py"
  },
  "language_info": {
   "codemirror_mode": {
    "name": "ipython",
    "version": 3
   },
   "file_extension": ".py",
   "mimetype": "text/x-python",
   "name": "python",
   "nbconvert_exporter": "python",
   "pygments_lexer": "ipython3",
   "version": "3.12.7"
  }
 },
 "nbformat": 4,
 "nbformat_minor": 4
}
