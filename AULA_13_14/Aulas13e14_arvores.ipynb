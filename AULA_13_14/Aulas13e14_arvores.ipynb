{
 "cells": [
  {
   "cell_type": "markdown",
   "metadata": {},
   "source": [
    "![Algoritmos e Estrutura de Dados II - Prof Piva](AED2_banner.jpg)"
   ]
  },
  {
   "cell_type": "markdown",
   "metadata": {},
   "source": [
    "## Aulas 13 e 14 - Árvores"
   ]
  },
  {
   "cell_type": "markdown",
   "metadata": {},
   "source": [
    "![Árvores](arvore.png)"
   ]
  },
  {
   "cell_type": "markdown",
   "metadata": {},
   "source": [
    "### Árvores binárias (com Listas)"
   ]
  },
  {
   "cell_type": "code",
   "execution_count": 1,
   "metadata": {},
   "outputs": [],
   "source": [
    "# Representação de árvore como lista de sublistas\n",
    "my_tree =   ['a',   # raiz\n",
    "            ['b',   # subárvore esquerda\n",
    "                ['d', [], []],\n",
    "                ['e', [], []]\n",
    "            ],\n",
    "            ['c',   # subárvore direita\n",
    "                ['f', [], []],\n",
    "                []\n",
    "            ]\n",
    "        ]"
   ]
  },
  {
   "cell_type": "code",
   "execution_count": 3,
   "metadata": {},
   "outputs": [
    {
     "name": "stdout",
     "output_type": "stream",
     "text": [
      "['a', ['b', ['d', [], []], ['e', [], []]], ['c', ['f', [], []], []]]\n"
     ]
    }
   ],
   "source": [
    "print(my_tree)"
   ]
  },
  {
   "cell_type": "code",
   "execution_count": 5,
   "metadata": {},
   "outputs": [
    {
     "name": "stdout",
     "output_type": "stream",
     "text": [
      "Subárvore esquerda =  ['b', ['d', [], []], ['e', [], []]]\n"
     ]
    }
   ],
   "source": [
    "print('Subárvore esquerda = ', my_tree[1])"
   ]
  },
  {
   "cell_type": "code",
   "execution_count": 7,
   "metadata": {},
   "outputs": [
    {
     "name": "stdout",
     "output_type": "stream",
     "text": [
      "Raiz =  a\n"
     ]
    }
   ],
   "source": [
    "print('Raiz = ', my_tree[0])"
   ]
  },
  {
   "cell_type": "code",
   "execution_count": 9,
   "metadata": {},
   "outputs": [
    {
     "name": "stdout",
     "output_type": "stream",
     "text": [
      "Subárvore direita =  ['c', ['f', [], []], []]\n"
     ]
    }
   ],
   "source": [
    "print('Subárvore direita = ', my_tree[2])"
   ]
  },
  {
   "cell_type": "code",
   "execution_count": 11,
   "metadata": {},
   "outputs": [],
   "source": [
    "# Cria árvore binária com raiz r\n",
    "def binary_tree(r):\n",
    "    return [r, [], []]"
   ]
  },
  {
   "cell_type": "code",
   "execution_count": 13,
   "metadata": {},
   "outputs": [],
   "source": [
    "# Insere novo ramo a esquerda da raiz\n",
    "def insert_left(root, new_branch):\n",
    "    # Analisa a subárvore a esquerda\n",
    "    t = root.pop(1)\n",
    "    # Se a subárvore a esquerda não é vazia\n",
    "    if len(t) > 1:\n",
    "        # Insere na posição 1 da raiz (esquerda)\n",
    "        # Novo ramo será a raiz da subárvore a esquerda\n",
    "        # Adiciona t na esquerda do novo ramo\n",
    "        root.insert(1, [new_branch, t, []])\n",
    "    else:\n",
    "        # Se t for vazia, não há subárvore a esquerda\n",
    "        root.insert(1, [new_branch, [], []])\n",
    "    return root"
   ]
  },
  {
   "cell_type": "code",
   "execution_count": 15,
   "metadata": {},
   "outputs": [],
   "source": [
    "# Insere novo ramo a direita da raiz\n",
    "def insert_right(root, new_branch):\n",
    "    # Analisa a subárvore a direita\n",
    "    t = root.pop(2)\n",
    "    # Se a subárvore a direita não é vazia\n",
    "    if len(t) > 1:\n",
    "        # Insere na posição 2 da raiz (direita)\n",
    "        # Novo ramo será a raiz da subárvore a direita\n",
    "        # Adiciona t na direita do novo ramo\n",
    "        root.insert(2, [new_branch, [], t])\n",
    "    else:\n",
    "        # Se t for vazia, não há subárvore a direita\n",
    "        root.insert(2, [new_branch, [], []])\n",
    "    return root"
   ]
  },
  {
   "cell_type": "code",
   "execution_count": 17,
   "metadata": {},
   "outputs": [],
   "source": [
    "def get_root_val(root):\n",
    "    return root[0]\n",
    "def set_root_val(root, new_val):\n",
    "    root[0] = new_val\n",
    "def get_left_child(root):\n",
    "    return root[1]\n",
    "def get_right_child(root):\n",
    "    return root[2]"
   ]
  },
  {
   "cell_type": "code",
   "execution_count": 19,
   "metadata": {},
   "outputs": [],
   "source": [
    "# Cria árvore binária\n",
    "r = binary_tree(3)"
   ]
  },
  {
   "cell_type": "code",
   "execution_count": 21,
   "metadata": {},
   "outputs": [
    {
     "data": {
      "text/plain": [
       "[3, [4, [], []], []]"
      ]
     },
     "execution_count": 21,
     "metadata": {},
     "output_type": "execute_result"
    }
   ],
   "source": [
    "# Adiciona subárvore a esquerda\n",
    "insert_left(r, 4)"
   ]
  },
  {
   "cell_type": "code",
   "execution_count": 23,
   "metadata": {},
   "outputs": [
    {
     "data": {
      "text/plain": [
       "[3, [5, [4, [], []], []], []]"
      ]
     },
     "execution_count": 23,
     "metadata": {},
     "output_type": "execute_result"
    }
   ],
   "source": [
    "# Adiciona subárvore a esquerda\n",
    "insert_left(r, 5)"
   ]
  },
  {
   "cell_type": "code",
   "execution_count": 25,
   "metadata": {},
   "outputs": [
    {
     "data": {
      "text/plain": [
       "[3, [5, [4, [], []], []], [6, [], []]]"
      ]
     },
     "execution_count": 25,
     "metadata": {},
     "output_type": "execute_result"
    }
   ],
   "source": [
    "# Adiciona subárvore a direita\n",
    "insert_right(r, 6)"
   ]
  },
  {
   "cell_type": "code",
   "execution_count": 27,
   "metadata": {},
   "outputs": [
    {
     "data": {
      "text/plain": [
       "[3, [5, [4, [], []], []], [7, [], [6, [], []]]]"
      ]
     },
     "execution_count": 27,
     "metadata": {},
     "output_type": "execute_result"
    }
   ],
   "source": [
    "# Adiciona subárvore a direita\n",
    "insert_right(r, 7)"
   ]
  },
  {
   "cell_type": "code",
   "execution_count": 29,
   "metadata": {},
   "outputs": [
    {
     "name": "stdout",
     "output_type": "stream",
     "text": [
      "[3, [5, [4, [], []], []], [7, [], [6, [], []]]]\n"
     ]
    }
   ],
   "source": [
    "print(r)"
   ]
  },
  {
   "cell_type": "code",
   "execution_count": 31,
   "metadata": {},
   "outputs": [],
   "source": [
    "# Obtém subárvore a esquerda da raiz\n",
    "l = get_left_child(r)"
   ]
  },
  {
   "cell_type": "code",
   "execution_count": 33,
   "metadata": {},
   "outputs": [
    {
     "name": "stdout",
     "output_type": "stream",
     "text": [
      "[5, [4, [], []], []]\n"
     ]
    }
   ],
   "source": [
    "print(l)"
   ]
  },
  {
   "cell_type": "code",
   "execution_count": 35,
   "metadata": {},
   "outputs": [],
   "source": [
    "# Muda a raiz da subárvore a esquerda\n",
    "set_root_val(l, 9)"
   ]
  },
  {
   "cell_type": "code",
   "execution_count": 37,
   "metadata": {},
   "outputs": [
    {
     "name": "stdout",
     "output_type": "stream",
     "text": [
      "[3, [9, [4, [], []], []], [7, [], [6, [], []]]]\n"
     ]
    }
   ],
   "source": [
    "print(r)"
   ]
  },
  {
   "cell_type": "code",
   "execution_count": 39,
   "metadata": {},
   "outputs": [
    {
     "name": "stdout",
     "output_type": "stream",
     "text": [
      "[3, [9, [11, [4, [], []], []], []], [7, [], [6, [], []]]]\n"
     ]
    }
   ],
   "source": [
    "# Insere a esquerda da subárvore a esquerda\n",
    "insert_left(l, 11)\n",
    "print(r)"
   ]
  },
  {
   "cell_type": "markdown",
   "metadata": {},
   "source": [
    "#### Exercício"
   ]
  },
  {
   "cell_type": "code",
   "execution_count": 24,
   "metadata": {},
   "outputs": [
    {
     "data": {
      "text/plain": [
       "['d', ['e', [], []], []]"
      ]
     },
     "execution_count": 24,
     "metadata": {},
     "output_type": "execute_result"
    }
   ],
   "source": [
    "## CONSIDERE O SEGUINTE CÓDIGO:\n",
    "x = binary_tree('a')\n",
    "insert_left(x,'b')\n",
    "insert_right(x,'c')\n",
    "insert_right(get_right_child(x), 'd')\n",
    "insert_left(get_right_child(get_right_child(x)), 'e')"
   ]
  },
  {
   "cell_type": "code",
   "execution_count": 25,
   "metadata": {},
   "outputs": [
    {
     "name": "stdout",
     "output_type": "stream",
     "text": [
      "['a', ['b', [], []], ['c', [], ['d', ['e', [], []], []]]]\n"
     ]
    }
   ],
   "source": [
    "print(x)"
   ]
  },
  {
   "cell_type": "code",
   "execution_count": null,
   "metadata": {},
   "outputs": [],
   "source": [
    "# Representação com lista de listas:\n",
    "# [‘a’, [‘b’, [], []], [‘c’, [], [‘d’, [‘e’, [], []], []]]]"
   ]
  },
  {
   "cell_type": "markdown",
   "metadata": {
    "id": "1CDy5e8_Pjiy"
   },
   "source": [
    "### Árvores binárias (com Listas Ligadas)"
   ]
  },
  {
   "cell_type": "code",
   "execution_count": 1,
   "metadata": {},
   "outputs": [],
   "source": [
    "# Define a classe árvore binária utilizando listas ligadas\n",
    "class BinaryTree:\n",
    "    # Construtor\n",
    "    def __init__(self, valor):\n",
    "        self.key = valor\n",
    "        self.left_child = None\n",
    "        self.right_child = None\n",
    "    \n",
    "    # Insere nó a esquerda\n",
    "    def insert_left(self, valor):\n",
    "        # Se nó corrente não tem filho a esquerda, OK\n",
    "        if self.left_child == None:\n",
    "            self.left_child = BinaryTree(valor)\n",
    "        else:\n",
    "            # Se tem filho a esquerda, pendura subárvore\n",
    "            # a esquerda do nó corrente na esquerda do \n",
    "            # novo nó receḿ criado\n",
    "            temp = BinaryTree(valor)\n",
    "            temp.left_child = self.left_child\n",
    "            self.left_child = temp\n",
    "    \n",
    "    # Insere nó a direita\n",
    "    def insert_right(self, valor):\n",
    "        # Se nó corrente não tem filho a direita, OK\n",
    "        if self.right_child == None:\n",
    "            self.right_child = BinaryTree(valor)\n",
    "        else:\n",
    "            # Se tem filho a direita, pendura subárvore\n",
    "            # a direita do nó corrente na direita do \n",
    "            # novo nó receḿ criado\n",
    "            temp = BinaryTree(valor)\n",
    "            temp.right_child = self.right_child\n",
    "            self.right_child = temp\n",
    "    \n",
    "    # Obtém filho a direita\n",
    "    def get_right_child(self):\n",
    "        return self.right_child\n",
    "    \n",
    "    # Obtém filho a esquerda\n",
    "    def get_left_child(self):\n",
    "        return self.left_child\n",
    "    \n",
    "    # Atualiza valor do nó corrente\n",
    "    def set_root_val(self, valor):\n",
    "        self.key = valor\n",
    "    \n",
    "    # Obtém valor do nó corrente\n",
    "    def get_root_val(self):\n",
    "        return self.key"
   ]
  },
  {
   "cell_type": "code",
   "execution_count": 2,
   "metadata": {},
   "outputs": [
    {
     "name": "stdout",
     "output_type": "stream",
     "text": [
      "a\n",
      "None\n",
      "None\n"
     ]
    }
   ],
   "source": [
    "## Testando a Classe BinaryTree\n",
    "# Cria nó com valor 'a'\n",
    "r = BinaryTree('a')\n",
    "print(r.get_root_val())\n",
    "print(r.get_left_child())\n",
    "print(r.get_right_child())"
   ]
  },
  {
   "cell_type": "code",
   "execution_count": 3,
   "metadata": {},
   "outputs": [
    {
     "name": "stdout",
     "output_type": "stream",
     "text": [
      "b\n"
     ]
    }
   ],
   "source": [
    "# Insere nó com valor 'b' a esquerda da raiz\n",
    "r.insert_left('b')\n",
    "print(r.get_left_child().get_root_val())"
   ]
  },
  {
   "cell_type": "code",
   "execution_count": 4,
   "metadata": {},
   "outputs": [
    {
     "name": "stdout",
     "output_type": "stream",
     "text": [
      "c\n"
     ]
    }
   ],
   "source": [
    "# Insere nó com valor 'c' na direita da raiz\n",
    "r.insert_right('c')\n",
    "print(r.get_right_child().get_root_val())"
   ]
  },
  {
   "cell_type": "code",
   "execution_count": 5,
   "metadata": {},
   "outputs": [
    {
     "name": "stdout",
     "output_type": "stream",
     "text": [
      "d\n"
     ]
    }
   ],
   "source": [
    "# Insere nó com valor 'd' a esquerda no filho a esquerda da raiz\n",
    "r.get_left_child().insert_left('d')\n",
    "print(r.get_left_child().get_left_child().get_root_val())"
   ]
  },
  {
   "cell_type": "code",
   "execution_count": 6,
   "metadata": {},
   "outputs": [
    {
     "name": "stdout",
     "output_type": "stream",
     "text": [
      "e\n"
     ]
    }
   ],
   "source": [
    "# Insere nó com valor 'e' a direita no filho a esquerda da raiz\n",
    "r.get_left_child().insert_right('e')\n",
    "print(r.get_left_child().get_right_child().get_root_val())"
   ]
  },
  {
   "cell_type": "markdown",
   "metadata": {},
   "source": [
    "#### Percorrendo uma árvore binária"
   ]
  },
  {
   "cell_type": "markdown",
   "metadata": {},
   "source": [
    "![Percorrendo Árvores Binárias](percurso.jpg)"
   ]
  },
  {
   "cell_type": "code",
   "execution_count": 7,
   "metadata": {},
   "outputs": [],
   "source": [
    "# Implementação\n",
    "# Define a classe árvore binária utilizando referências\n",
    "class BinaryTree:\n",
    "    # Construtor\n",
    "    def __init__(self, valor):\n",
    "        self.key = valor\n",
    "        self.left_child = None\n",
    "        self.right_child = None\n",
    "    \n",
    "    # Insere nó a esquerda\n",
    "    def insert_left(self, valor):\n",
    "        # Se nó corrente não tem filho a esquerda, OK\n",
    "        if self.left_child == None:\n",
    "            self.left_child = BinaryTree(valor)\n",
    "        else:\n",
    "            # Se tem filho a esquerda, pendura subárvore\n",
    "            # a esquerda do nó corrente na esquerda do \n",
    "            # novo nó receḿ criado\n",
    "            temp = BinaryTree(valor)\n",
    "            temp.left_child = self.left_child\n",
    "            self.left_child = temp\n",
    "    \n",
    "    # Insere nó a direita\n",
    "    def insert_right(self, valor):\n",
    "        # Se nó corrente não tem filho a direita, OK\n",
    "        if self.right_child == None:\n",
    "            self.right_child = BinaryTree(valor)\n",
    "        else:\n",
    "            # Se tem filho a direita, pendura subárvore\n",
    "            # a direita do nó corrente na direita do \n",
    "            # novo nó receḿ criado\n",
    "            temp = BinaryTree(valor)\n",
    "            temp.right_child = self.right_child\n",
    "            self.right_child = temp\n",
    "    \n",
    "    # Obtém filho a direita\n",
    "    def get_right_child(self):\n",
    "        return self.right_child\n",
    "    \n",
    "    # Obtém filho a esquerda\n",
    "    def get_left_child(self):\n",
    "        return self.left_child\n",
    "    \n",
    "    # Atualiza valor do nó corrente\n",
    "    def set_root_val(self, valor):\n",
    "        self.key = valor\n",
    "    \n",
    "    # Obtém valor do nó corrente\n",
    "    def get_root_val(self):\n",
    "        return self.key\n",
    "    \n",
    "    # Percorre uma árvore binária em Preorder\n",
    "    def preorder(self):\n",
    "        # Imprime valor da raiz\n",
    "        print(self.key)\n",
    "        # Visita subárvore a esquerda\n",
    "        if self.left_child:\n",
    "            self.left_child.preorder()\n",
    "        # Visita subárvore a direita\n",
    "        if self.right_child:\n",
    "            self.right_child.preorder()\n",
    "    \n",
    "    # Percorre uma árvore binária em Inorder\n",
    "    def inorder(self):\n",
    "        # Visita subárvore a esquerda\n",
    "        if self.left_child:\n",
    "            self.left_child.inorder()\n",
    "        # Imprime valor da raiz\n",
    "        print(self.key)\n",
    "        # Visita subárvore a direita\n",
    "        if self.right_child:\n",
    "            self.right_child.inorder()\n",
    "    \n",
    "    # Percorre uma árvore binária em Postorder\n",
    "    def postorder(self):\n",
    "        # Visita subárvore a esquerda\n",
    "        if self.left_child:\n",
    "            self.left_child.postorder()\n",
    "        # Visita subárvore a direita\n",
    "        if self.right_child:\n",
    "            self.right_child.postorder()\n",
    "        # Imprime valor da raiz\n",
    "        print(self.key)"
   ]
  },
  {
   "cell_type": "code",
   "execution_count": 8,
   "metadata": {},
   "outputs": [
    {
     "name": "stdout",
     "output_type": "stream",
     "text": [
      "a\n",
      "None\n",
      "None\n"
     ]
    }
   ],
   "source": [
    "## testando a classe\n",
    "\n",
    "# Cria nó com valor 'a'\n",
    "r = BinaryTree('a')\n",
    "print(r.get_root_val())\n",
    "print(r.get_left_child())\n",
    "print(r.get_right_child())"
   ]
  },
  {
   "cell_type": "code",
   "execution_count": 9,
   "metadata": {},
   "outputs": [
    {
     "name": "stdout",
     "output_type": "stream",
     "text": [
      "b\n"
     ]
    }
   ],
   "source": [
    "# Insere nó com valor 'b' a esquerda da raiz\n",
    "r.insert_left('b')\n",
    "print(r.get_left_child().get_root_val())"
   ]
  },
  {
   "cell_type": "code",
   "execution_count": 10,
   "metadata": {},
   "outputs": [
    {
     "name": "stdout",
     "output_type": "stream",
     "text": [
      "c\n"
     ]
    }
   ],
   "source": [
    "# Insere nó com valor 'c' na direita da raiz\n",
    "r.insert_right('c')\n",
    "print(r.get_right_child().get_root_val())"
   ]
  },
  {
   "cell_type": "code",
   "execution_count": 11,
   "metadata": {},
   "outputs": [
    {
     "name": "stdout",
     "output_type": "stream",
     "text": [
      "d\n"
     ]
    }
   ],
   "source": [
    "# Insere nó com valor 'd' a esquerda no filho a esquerda da raiz\n",
    "r.get_left_child().insert_left('d')\n",
    "print(r.get_left_child().get_left_child().get_root_val())"
   ]
  },
  {
   "cell_type": "code",
   "execution_count": 12,
   "metadata": {},
   "outputs": [
    {
     "name": "stdout",
     "output_type": "stream",
     "text": [
      "e\n"
     ]
    }
   ],
   "source": [
    "# Insere nó com valor 'e' a direita no filho a esquerda da raiz\n",
    "r.get_left_child().insert_right('e')\n",
    "print(r.get_left_child().get_right_child().get_root_val())"
   ]
  },
  {
   "cell_type": "markdown",
   "metadata": {},
   "source": [
    "![Árvore Criada](arvore_criada.jpg)"
   ]
  },
  {
   "cell_type": "code",
   "execution_count": 13,
   "metadata": {},
   "outputs": [
    {
     "name": "stdout",
     "output_type": "stream",
     "text": [
      "Preorder\n",
      "a\n",
      "b\n",
      "d\n",
      "e\n",
      "c\n"
     ]
    }
   ],
   "source": [
    "# Percurso preorder\n",
    "print('Preorder')\n",
    "r.preorder()"
   ]
  },
  {
   "cell_type": "code",
   "execution_count": 14,
   "metadata": {},
   "outputs": [
    {
     "name": "stdout",
     "output_type": "stream",
     "text": [
      "Inorder\n",
      "d\n",
      "b\n",
      "e\n",
      "a\n",
      "c\n"
     ]
    }
   ],
   "source": [
    "# Percurso inorder\n",
    "print('Inorder')\n",
    "r.inorder()"
   ]
  },
  {
   "cell_type": "code",
   "execution_count": 15,
   "metadata": {},
   "outputs": [
    {
     "name": "stdout",
     "output_type": "stream",
     "text": [
      "Postorder\n",
      "d\n",
      "e\n",
      "b\n",
      "c\n",
      "a\n"
     ]
    }
   ],
   "source": [
    "# Percurso postorder\n",
    "print('Postorder')\n",
    "r.postorder()"
   ]
  },
  {
   "cell_type": "markdown",
   "metadata": {},
   "source": [
    "### Árvore Binária de Busca"
   ]
  },
  {
   "cell_type": "code",
   "execution_count": 5,
   "metadata": {},
   "outputs": [],
   "source": [
    "# Classe para armazenar um nó da árvore de busca\n",
    "class TreeNode:\n",
    "    # Construtor\n",
    "    def __init__(self, key, val, left = None, right = None, parent = None):\n",
    "        self.key = key # chave\n",
    "        self.payload = val # valor\n",
    "        self.left_child = left # filho a esquerda\n",
    "        self.right_child = right # filho a direita\n",
    "        self.parent = parent # nó pai\n",
    "    \n",
    "    # Verifica se tem filho a esquerda\n",
    "    def has_left_child(self):\n",
    "        # Se retornar None, não tem\n",
    "        return self.left_child\n",
    "    \n",
    "    # Verifica se tem filho a direita\n",
    "    def has_right_child(self):\n",
    "        return self.right_child\n",
    "    \n",
    "    # Verifica se nó é filho a esquerda de alguém\n",
    "    def is_left_child(self):\n",
    "        # Tem que ter um nó pai e ser filho a esquerda desse nó pai\n",
    "        return self.parent and self.parent.left_child == self\n",
    "    \n",
    "    # Verifica se é filho a direita\n",
    "    def is_right_child(self):\n",
    "        # Tem que ter um nó pai e ser filho a direita desse nó pai\n",
    "        return self.parent and self.parent.right_child == self\n",
    "    \n",
    "    # Verifica se nó é raiz\n",
    "    def is_root(self):\n",
    "        # Raiz não pode ter pai\n",
    "        return not self.parent\n",
    "    \n",
    "    # Verifica se é nó folha\n",
    "    def is_leaf(self):\n",
    "        # Folha não tem'filho a esquerda nem a direita\n",
    "        return not (self.right_child or self.left_child)\n",
    "    \n",
    "    # Verifica se nó tem algum filho\n",
    "    def has_any_children(self):\n",
    "        # Basta ter um filho a direita ou a esquerda\n",
    "        return self.right_child or self.left_child\n",
    "    \n",
    "    # Verifica se tem ambos os filhos\n",
    "    def has_both_children(self):\n",
    "        # Deve ter filho a direita e a esquerda\n",
    "        return self.right_child and self.left_child\n",
    "    \n",
    "    # Atualiza dados do nó\n",
    "    def replace_node_data(self, key, value, lc, rc):\n",
    "        self.key = key # nova chave\n",
    "        self.payload = value # novo valor\n",
    "        self.left_child = lc # novo filho a esquerda\n",
    "        self.right_child = rc # novo filho a direita\n",
    "        if self.has_left_child(): # é pai de seu novo filho a esquerda\n",
    "            self.left_child.parent = self\n",
    "        if self.has_right_child(): # é pai de seu novo filho a direita\n",
    "            self.right_child.parent = self"
   ]
  },
  {
   "cell_type": "code",
   "execution_count": 2,
   "metadata": {},
   "outputs": [],
   "source": [
    "# Implementa a classe BinarySearchTree\n",
    "class BinarySearchTree:\n",
    "    # Construtor\n",
    "    def __init__(self):\n",
    "        self.root = None\n",
    "        self.size = 0\n",
    "    \n",
    "    # Retorna número de nós da árvore\n",
    "    def length(self):\n",
    "        return self.size\n",
    "    \n",
    "    # Permite usar a função built-in len() do Python\n",
    "    def __len__(self):\n",
    "        return self.size\n",
    "    \n",
    "    '''Esse método irá checar se a árvore já tem uma raiz. Se ela não\n",
    "    tiver, então será criado um novo TreeNode e ele será a raiz da árvore.\n",
    "    Se uma raiz já existe, então o método chama a função auxiliar _put para\n",
    "    procurar o local correto do elemento na árvore de maneira recursiva.'''\n",
    "    def put(self, key, val):\n",
    "        # Se raiz existe\n",
    "        if self.root:\n",
    "            # Adiciona elemento a partir da raiz (vai achar posição correta)\n",
    "            self._put(key, val, self.root)\n",
    "        else:\n",
    "            # Se não tem raíz, cria novo nó raiz\n",
    "            self.root = TreeNode(key, val)\n",
    "        # Incrementa número de nós\n",
    "        self.size = self.size + 1\n",
    "    \n",
    "    # Função auxiliar recursiva para inserção na árvore de busca\n",
    "    def _put(self, key, val, current):\n",
    "        # Se chave é menor, olha na subárvore a esquerda\n",
    "        if key < current.key:\n",
    "            # Se já tem filho a esquerda, dispara função recursiva\n",
    "            if current.has_left_child():\n",
    "                self._put(key, val, current.left_child)\n",
    "            else:\n",
    "                # Encontrou a posição correta\n",
    "                current.left_child = TreeNode(key,val,parent=current)\n",
    "        else:\n",
    "            # Aqui a chave é maior ou igual, então subárvore a direita\n",
    "            # Se já tem filho a direita, dispara função recursiva\n",
    "            if current.has_right_child():\n",
    "                self._put(key, val, current.right_child)\n",
    "            else: # Encontrou a posição correta\n",
    "                current.right_child = TreeNode(key, val, parent=current)\n",
    "    \n",
    "    # Podemos agora sobrecarregar o operador colchetes como em\n",
    "    # T['a'] = 123 para inserir o elemento 123 na chave 'a'\n",
    "    def __setitem__(self, k, v):\n",
    "        self.put(k, v)\n",
    "    \n",
    "    # Busca pelo elemento com a chave key\n",
    "    def get(self, key):\n",
    "        # Se árvore tem raiz\n",
    "        if self.root:\n",
    "            # Dispara função recursiva auxiliar de busca\n",
    "            res = self._get(key, self.root)\n",
    "            # Se retorna elemento diferente de None\n",
    "            if res:\n",
    "                return res.payload\n",
    "            else:\n",
    "                return None\n",
    "        else:\n",
    "            return None\n",
    "    \n",
    "    # Função auxiliar recursiva para busca de elemento na árvore\n",
    "    def _get(self, key, current):\n",
    "        # Se nó corrente não existe, não existe elemento\n",
    "        if not current:\n",
    "            return None\n",
    "        # Se chave do elemento igual a chave de busca, encontrou\n",
    "        elif current.key == key:\n",
    "            return current\n",
    "        # Se chave menor que chave do nó\n",
    "        elif key < current.key:\n",
    "            # Buscar na subárvore a esquerda\n",
    "            return self._get(key, current.left_child)\n",
    "        else:\n",
    "            # Buscar na subárvore a direita\n",
    "            return self._get(key, current.right_child)\n",
    "    \n",
    "    # Podemos agora sobrecarregar o operador colchetes como em\n",
    "    # T['a'] para retornar o valor cuja chave é 'a'\n",
    "    def __getitem__(self, key):\n",
    "        return self.get(key)\n",
    "    \n",
    "    # Permite utilizar o operador in para realizar a busca\n",
    "    # como em 'a' in T\n",
    "    def __contains__(self, key):\n",
    "        if self._get(key, self.root):\n",
    "            return True\n",
    "        else:\n",
    "            return False\n",
    "    \n",
    "    # Percorre uma árvore binária em Preorder\n",
    "    def preorder(self, current_node):\n",
    "        # Imprime valor da raiz\n",
    "        print(current_node.key)\n",
    "        # Visita subárvore a esquerda\n",
    "        if current_node.left_child:\n",
    "            self.preorder(current_node.left_child)\n",
    "        # Visita subárvore a direita\n",
    "        if current_node.right_child:\n",
    "            self.preorder(current_node.right_child)\n",
    "    \n",
    "    # Percorre uma árvore binária em Inorder\n",
    "    def inorder(self, current_node):\n",
    "        # Visita subárvore a esquerda\n",
    "        if current_node.left_child:\n",
    "            self.inorder(current_node.left_child)\n",
    "        # Imprime valor da raiz\n",
    "        print(current_node.key)\n",
    "        # Visita subárvore a direita\n",
    "        if current_node.right_child:\n",
    "            self.inorder(current_node.right_child)\n",
    "    \n",
    "    # Percorre uma árvore binária em Postorder\n",
    "    def postorder(self, current_node):\n",
    "        # Visita subárvore a esquerda\n",
    "        if current_node.left_child:\n",
    "            self.postorder(current_node.left_child)\n",
    "        # Visita subárvore a direita\n",
    "        if current_node.right_child:\n",
    "            self.postorder(current_node.right_child)\n",
    "        # Imprime valor da raiz\n",
    "        print(current_node.key)\n",
    "\n",
    "    # Deleta um elemento de um nó da árvore\n",
    "    def delete(self, key):\n",
    "        # Se árvore contém mais de um nó\n",
    "        if self.size > 1:\n",
    "            # Procura pela chave a ser removida\n",
    "            node_to_remove = self._get(key, self.root)\n",
    "            # Se encontrou a chave na árvore\n",
    "            if node_to_remove:\n",
    "                # Remove nó da árvore (analisar vários casos)\n",
    "                self.remove(node_to_remove)\n",
    "                # Decrementa o número de nós da árvore\n",
    "                self.size = self.size - 1\n",
    "            else:\n",
    "                # Senão, retorna erro (chave não existe)\n",
    "                raise KeyError('Erro, chave não pertence a árvore')\n",
    "        # Se árvore tem apenas um nó = raiz\n",
    "        # Verificar se chave a ser removida é = a chave da raiz\n",
    "        elif self.size == 1 and self.root.key == key:\n",
    "            self.root = None\n",
    "            self.size = self.size - 1\n",
    "        else:\n",
    "            # Senão, retorna erro (chave não existe)\n",
    "            raise KeyError('Erro, chave não pertence a árvore')\n",
    "    \n",
    "    # Para utilizar o operador del\n",
    "    def __delitem__(self, key):\n",
    "        self.delete(key)\n",
    "\n",
    "    def find_successor(self):\n",
    "        succ = self.right_child.find_min()\n",
    "\n",
    "    def find_min(self):\n",
    "        current = self\n",
    "        while current.has_left_child():\n",
    "            current = current.left_child\n",
    "        return current\n",
    "\n",
    "    # Remove o nó successor\n",
    "    def splice_out(self):\n",
    "        # Se é nó folha\n",
    "        if self.is_leaf():\n",
    "            # Se é filho a esquerda\n",
    "            if self.is_left_child():\n",
    "                self.parent.left_child = None\n",
    "            else:\n",
    "                # senão, é filho a direita\n",
    "                self.parent.right_child = None\n",
    "        # Caso o nó tenha algum filho\n",
    "        elif self.has_any_children():\n",
    "            # Se nó tem filho a direita\n",
    "            if self.has_left_child():\n",
    "                # Se está a esquerda do pai\n",
    "                if self.is_left_child():\n",
    "                    self.parent.left_child = self.left_child\n",
    "                else:\n",
    "                    # Senão, está a direita do pai\n",
    "                    self.parent.right_child = self.left_child\n",
    "                self.left_child.parent = self.parent\n",
    "            else:\n",
    "                # Senão, o nó tem filho a direita\n",
    "                # Se está a esquerda do pai\n",
    "                if self.is_left_child():\n",
    "                    self.parent.left_child = self.right_child\n",
    "                else:\n",
    "                    # Senão, está a direita do pai\n",
    "                    self.parent.right_child = self.right_child\n",
    "                self.right_child.parent = self.parent\n",
    "    \n",
    "    # Implementa o processo de remoção do nó corrente\n",
    "    def remove(self, current_node):\n",
    "        if current_node.is_leaf(): #leaf\n",
    "            if current_node == current_node.parent.left_child:\n",
    "                current_node.parent.left_child = None\n",
    "            else:\n",
    "                current_node.parent.right_child = None\n",
    "        elif current_node.has_both_children(): # interior\n",
    "            succ = current_node.find_successor()\n",
    "            succ.splice_out()\n",
    "            current_node.key = succ.key\n",
    "            current_node.payload = succ.payload\n",
    "        else: # this node has one child\n",
    "            if current_node.has_left_child():\n",
    "                if current_node.is_left_child():\n",
    "                    current_node.left_child.parent = current_node.parent\n",
    "                    current_node.parent.left_child = current_node.left_child\n",
    "                elif current_node.is_right_child():\n",
    "                    current_node.left_child.parent = current_node.parent\n",
    "                    current_node.parent.right_child = current_node.left_child\n",
    "                else:\n",
    "                    current_node.replace_node_data(current_node.left_child.key, current_node.left_child.payload, current_node.left_child.left_child, current_node.left_child.right_child)\n",
    "            else:\n",
    "                if current_node.is_left_child():\n",
    "                    current_node.right_child.parent = current_node.parent\n",
    "                    current_node.parent.left_child = current_node.right_child\n",
    "                elif current_node.is_right_child():\n",
    "                    current_node.right_child.parent = current_node.parent\n",
    "                    current_node.parent.right_child = current_node.right_child\n",
    "                else:\n",
    "                    current_node.replace_node_data(current_node.right_child.key, current_node.right_child.payload, current_node.right_child.left_child, current_node.right_child.right_child)\n"
   ]
  },
  {
   "cell_type": "markdown",
   "metadata": {},
   "source": [
    "#### Testando as classes"
   ]
  },
  {
   "cell_type": "code",
   "execution_count": 3,
   "metadata": {},
   "outputs": [],
   "source": [
    "import random\n",
    "\n",
    "# Cria nova árvore de busca\n",
    "T = BinarySearchTree()"
   ]
  },
  {
   "cell_type": "code",
   "execution_count": 6,
   "metadata": {},
   "outputs": [],
   "source": [
    "# Insere 10 elementos na árvore com chaves aleatórias\n",
    "for i in range(10):\n",
    "    chave = random.randint(0, 100)\n",
    "    # Se a chave ainda não pertence a árvore\n",
    "    if not chave in T:\n",
    "        # Armazena o valor de i\n",
    "        T[chave] = random.random()"
   ]
  },
  {
   "cell_type": "code",
   "execution_count": 7,
   "metadata": {},
   "outputs": [
    {
     "name": "stdout",
     "output_type": "stream",
     "text": [
      "Percurso inorder\n",
      "6\n",
      "15\n",
      "39\n",
      "50\n",
      "60\n",
      "67\n",
      "73\n",
      "74\n",
      "79\n",
      "97\n"
     ]
    }
   ],
   "source": [
    "# Percorre a árvore, imprimindo as chaves\n",
    "print('Percurso inorder')\n",
    "T.inorder(T.root)"
   ]
  },
  {
   "cell_type": "markdown",
   "metadata": {},
   "source": [
    "**Atenção**: Note que em uma árvore binária de busca, ao percorrermos os nós inorder, as chaves aparecem\n",
    "ordenadas do menor para o maior."
   ]
  },
  {
   "cell_type": "markdown",
   "metadata": {},
   "source": [
    "-----------"
   ]
  },
  {
   "cell_type": "markdown",
   "metadata": {},
   "source": [
    "### Segunda implementação - Árvore Binária de Busca"
   ]
  },
  {
   "cell_type": "code",
   "execution_count": null,
   "metadata": {
    "id": "nnz0ufrapTP2"
   },
   "outputs": [],
   "source": [
    "class No:\n",
    "  def __init__(self, valor):\n",
    "    self.valor = valor\n",
    "    self.esquerda = None\n",
    "    self.direita = None\n",
    "\n",
    "  def mostra_no(self):\n",
    "    print(self.valor)"
   ]
  },
  {
   "cell_type": "code",
   "execution_count": null,
   "metadata": {
    "id": "1L2lCXxXplvw"
   },
   "outputs": [],
   "source": [
    "class ArvoreBinariaBusca:\n",
    "  def __init__(self):\n",
    "    self.raiz = None\n",
    "    self.ligacoes = []\n",
    "\n",
    "  def inserir(self, valor):\n",
    "    novo = No(valor)\n",
    "    # Se a árvore estiver vazia\n",
    "    if self.raiz == None:\n",
    "      self.raiz = novo\n",
    "    else:\n",
    "      atual = self.raiz\n",
    "      while True:\n",
    "        pai = atual\n",
    "        # Esquerda\n",
    "        if valor < atual.valor:\n",
    "          atual = atual.esquerda\n",
    "          if atual == None:\n",
    "            pai.esquerda = novo\n",
    "            self.ligacoes.append(str(pai.valor) + '->' + str(novo.valor))\n",
    "            return\n",
    "        # Direita\n",
    "        else:\n",
    "          atual = atual.direita\n",
    "          if atual == None:\n",
    "            pai.direita = novo\n",
    "            self.ligacoes.append(str(pai.valor) + '->' + str(novo.valor))\n",
    "            return\n",
    "\n",
    "  def pesquisar(self, valor):\n",
    "    atual = self.raiz\n",
    "    while atual.valor != valor:\n",
    "      if valor < atual.valor:\n",
    "        atual = atual.esquerda\n",
    "      else:\n",
    "        atual = atual.direita\n",
    "      if atual == None:\n",
    "        return None\n",
    "    return atual\n",
    "\n",
    "  # Raiz, esquerda, direita\n",
    "  def pre_ordem(self, no):\n",
    "    if no != None:\n",
    "      print(no.valor)\n",
    "      self.pre_ordem(no.esquerda)\n",
    "      self.pre_ordem(no.direita)\n",
    "\n",
    "  # Esquerda, raiz, direita\n",
    "  def em_ordem(self, no):\n",
    "    if no != None:\n",
    "      self.em_ordem(no.esquerda)\n",
    "      print(no.valor)\n",
    "      self.em_ordem(no.direita)\n",
    "\n",
    "  # Esquerda, direita, raiz\n",
    "  def pos_ordem(self, no):\n",
    "    if no != None:\n",
    "      self.pos_ordem(no.esquerda)\n",
    "      self.pos_ordem(no.direita)\n",
    "      print(no.valor)\n",
    "\n",
    "  def excluir(self, valor):\n",
    "    if self.raiz == None:\n",
    "      print('A árvore está vazia')\n",
    "      return\n",
    "\n",
    "    # Encontrar o nó\n",
    "    atual = self.raiz\n",
    "    pai = self.raiz\n",
    "    e_esquerda = True\n",
    "    while atual.valor != valor:\n",
    "      pai = atual\n",
    "      # Esquerda\n",
    "      if valor < atual.valor:\n",
    "        e_esquerda = True\n",
    "        atual = atual.esquerda\n",
    "      # Direita\n",
    "      else:\n",
    "        e_esquerda = False\n",
    "        atual = atual.direita\n",
    "      if atual == None:\n",
    "        return False\n",
    "\n",
    "    # O nó a ser apagado é uma folha\n",
    "    if atual.esquerda == None and atual.direita == None:\n",
    "      if atual == self.raiz:\n",
    "        self.raiz = None\n",
    "      elif e_esquerda == True:\n",
    "\n",
    "        self.ligacoes.remove(str(pai.valor) + '->' + str(atual.valor))\n",
    "\n",
    "        pai.esquerda = None\n",
    "      else:\n",
    "\n",
    "        self.ligacoes.remove(str(pai.valor) + '->' + str(atual.valor))\n",
    "\n",
    "        pai.direita = None\n",
    "\n",
    "    # O nó a ser apagado não possui filho na direita\n",
    "    elif atual.direita == None:\n",
    "\n",
    "      self.ligacoes.remove(str(pai.valor) + '->' + str(atual.valor))\n",
    "      self.ligacoes.remove(str(atual.valor) + '->' + str(atual.esquerda.valor))\n",
    "\n",
    "      if atual == self.raiz:\n",
    "        self.raiz = atual.esquerda\n",
    "\n",
    "        self.ligacoes.append(str(raiz.valor) + '->' + str(atual.esquerda.valor))\n",
    "\n",
    "      elif e_esquerda == True:\n",
    "        pai.esquerda = atual.esquerda\n",
    "\n",
    "        self.ligacoes.append(str(pai.valor) + '->' + str(atual.esquerda.valor))\n",
    "\n",
    "      else:\n",
    "        pai.direita = atual.esquerda\n",
    "\n",
    "        self.ligacoes.append(str(pai.valor) + '->' + str(atual.esquerda.valor))\n",
    "\n",
    "    # O nó a ser apagado não possui filho na esquerda\n",
    "    elif atual.esquerda == None:\n",
    "\n",
    "      self.ligacoes.remove(str(pai.valor) + '->' + str(atual.valor))\n",
    "      self.ligacoes.remove(str(atual.valor) + '->' + str(atual.direita.valor))\n",
    "\n",
    "      if atual == self.raiz:\n",
    "\n",
    "        self.ligacoes.append(str(raiz.valor) + '->' + str(atual.direita.valor))\n",
    "\n",
    "        self.raiz = atual.direita\n",
    "      elif e_esquerda == True:\n",
    "\n",
    "        self.ligacoes.append(str(pai.valor) + '->' + str(atual.direita.valor))\n",
    "\n",
    "        pai.esquerda = atual.direita\n",
    "      else:\n",
    "\n",
    "        self.ligacoes.append(str(pai.valor) + '->' + str(atual.direita.valor))\n",
    "\n",
    "        pai.direita = atual.direita\n",
    "\n",
    "    # O nó possui dois filhos\n",
    "    else:\n",
    "      sucessor = self.get_sucessor(atual)\n",
    "\n",
    "      self.ligacoes.remove(str(pai.valor) + '->' + str(atual.valor))\n",
    "      self.ligacoes.remove(str(atual.direita.valor) + '->' + str(sucessor.valor))\n",
    "      self.ligacoes.remove(str(atual.valor) + '->' + str(atual.esquerda.valor))\n",
    "      self.ligacoes.remove(str(atual.valor) + '->' + str(atual.direita.valor))\n",
    "\n",
    "      if atual == self.raiz:\n",
    "\n",
    "        self.ligacoes.append(str(raiz.valor) + '->' + str(sucessor.valor))\n",
    "\n",
    "        self.raiz = sucessor\n",
    "\n",
    "      elif e_esquerda == True:\n",
    "\n",
    "        self.ligacoes.append(str(pai.valor) + '->' + str(sucessor.valor))\n",
    "\n",
    "        pai.esquerda = sucessor\n",
    "\n",
    "      else:\n",
    "\n",
    "        self.ligacoes.append(str(pai.valor) + '->' + str(sucessor.valor))\n",
    "\n",
    "        pai.direita = sucessor\n",
    "\n",
    "      self.ligacoes.append(str(sucessor.valor) + '->' + str(atual.esquerda.valor))\n",
    "      self.ligacoes.append(str(sucessor.valor) + '->' + str(atual.direita.valor))\n",
    "\n",
    "      sucessor.esquerda = atual.esquerda\n",
    "\n",
    "    return True\n",
    "\n",
    "\n",
    "\n",
    "  def get_sucessor(self, no):\n",
    "    pai_sucessor = no\n",
    "    sucessor = no\n",
    "    atual = no.direita\n",
    "    while atual != None:\n",
    "      pai_sucessor = sucessor\n",
    "      sucessor = atual\n",
    "      atual = atual.esquerda\n",
    "    if sucessor != no.direita:\n",
    "      pai_sucessor.esquerda = sucessor.direita\n",
    "      sucessor.direita = no.direita\n",
    "    return sucessor"
   ]
  },
  {
   "cell_type": "markdown",
   "metadata": {
    "id": "GfWOxB_KvRqx"
   },
   "source": [
    "### Inserção e visualização"
   ]
  },
  {
   "cell_type": "code",
   "execution_count": null,
   "metadata": {
    "id": "REc99Aq_vUAw"
   },
   "outputs": [],
   "source": [
    "arvore = ArvoreBinariaBusca()\n",
    "arvore.inserir(53)\n",
    "arvore.inserir(30)\n",
    "arvore.inserir(14)\n",
    "arvore.inserir(39)\n",
    "arvore.inserir(9)\n",
    "arvore.inserir(23)\n",
    "arvore.inserir(34)\n",
    "arvore.inserir(49)\n",
    "arvore.inserir(72)\n",
    "arvore.inserir(61)\n",
    "arvore.inserir(84)\n",
    "arvore.inserir(79)"
   ]
  },
  {
   "cell_type": "code",
   "execution_count": null,
   "metadata": {
    "colab": {
     "base_uri": "https://localhost:8080/",
     "height": 55
    },
    "id": "ruv5vxSEvmq8",
    "outputId": "06738adc-e604-4667-ae9d-f1ab85a38652"
   },
   "outputs": [
    {
     "data": {
      "text/plain": [
       "30"
      ]
     },
     "execution_count": 4,
     "metadata": {
      "tags": []
     },
     "output_type": "execute_result"
    }
   ],
   "source": [
    "arvore.raiz.esquerda.valor"
   ]
  },
  {
   "cell_type": "code",
   "execution_count": null,
   "metadata": {
    "colab": {
     "base_uri": "https://localhost:8080/",
     "height": 55
    },
    "id": "GUwaUppbvtF9",
    "outputId": "9828a57b-c73a-46cd-80bd-e90efd9790e0"
   },
   "outputs": [
    {
     "data": {
      "text/plain": [
       "72"
      ]
     },
     "execution_count": 5,
     "metadata": {
      "tags": []
     },
     "output_type": "execute_result"
    }
   ],
   "source": [
    "arvore.raiz.direita.valor"
   ]
  },
  {
   "cell_type": "code",
   "execution_count": null,
   "metadata": {
    "id": "QL4I6yor1F5i"
   },
   "outputs": [],
   "source": [
    "arvore.inserir(89)"
   ]
  },
  {
   "cell_type": "code",
   "execution_count": null,
   "metadata": {
    "colab": {
     "base_uri": "https://localhost:8080/",
     "height": 231
    },
    "id": "kVpTpJz60JG2",
    "outputId": "2fe97641-aea8-434c-d479-e968e672878e"
   },
   "outputs": [
    {
     "data": {
      "text/plain": [
       "['53->30',\n",
       " '30->14',\n",
       " '30->39',\n",
       " '14->9',\n",
       " '14->23',\n",
       " '39->34',\n",
       " '39->49',\n",
       " '53->72',\n",
       " '72->61',\n",
       " '72->84',\n",
       " '84->79']"
      ]
     },
     "execution_count": 10,
     "metadata": {
      "tags": []
     },
     "output_type": "execute_result"
    }
   ],
   "source": [
    "arvore.ligacoes"
   ]
  },
  {
   "cell_type": "code",
   "execution_count": null,
   "metadata": {
    "id": "6LNu7jA3om7k"
   },
   "outputs": [],
   "source": [
    "arvore.ligacoes.remove('14->9')"
   ]
  },
  {
   "cell_type": "markdown",
   "metadata": {
    "id": "WljSCEnx3KxU"
   },
   "source": [
    "### Pesquisar"
   ]
  },
  {
   "cell_type": "code",
   "execution_count": null,
   "metadata": {
    "colab": {
     "base_uri": "https://localhost:8080/",
     "height": 55
    },
    "id": "DvSI9hdc3MFW",
    "outputId": "0baccd9c-947a-475a-8de2-fbafd44e8281"
   },
   "outputs": [
    {
     "data": {
      "text/plain": [
       "<__main__.No at 0x7fc697ee64a8>"
      ]
     },
     "execution_count": 5,
     "metadata": {
      "tags": []
     },
     "output_type": "execute_result"
    }
   ],
   "source": [
    "arvore.pesquisar(39)"
   ]
  },
  {
   "cell_type": "code",
   "execution_count": null,
   "metadata": {
    "colab": {
     "base_uri": "https://localhost:8080/",
     "height": 55
    },
    "id": "9xZo1uKx3TQf",
    "outputId": "29a171c7-df47-4fd0-811b-0f565735cc05"
   },
   "outputs": [
    {
     "data": {
      "text/plain": [
       "<__main__.No at 0x7f5b1fe4beb8>"
      ]
     },
     "execution_count": 15,
     "metadata": {
      "tags": []
     },
     "output_type": "execute_result"
    }
   ],
   "source": [
    "arvore.pesquisar(84)"
   ]
  },
  {
   "cell_type": "code",
   "execution_count": null,
   "metadata": {
    "colab": {
     "base_uri": "https://localhost:8080/",
     "height": 55
    },
    "id": "l4wZVzLv3WEg",
    "outputId": "f1fd7d37-f2ed-4503-82a9-847fb7707121"
   },
   "outputs": [
    {
     "name": "stdout",
     "output_type": "stream",
     "text": [
      "Elemento não localizado\n"
     ]
    }
   ],
   "source": [
    "if arvore.pesquisar(100) == None:\n",
    "  print('Elemento não localizado')\n",
    "else:\n",
    "  print('Elemento localizado')"
   ]
  },
  {
   "cell_type": "markdown",
   "metadata": {
    "id": "OW08RX1l0IKM"
   },
   "source": [
    "### Travessia"
   ]
  },
  {
   "cell_type": "code",
   "execution_count": null,
   "metadata": {
    "colab": {
     "base_uri": "https://localhost:8080/",
     "height": 248
    },
    "id": "wgqID80_0KMy",
    "outputId": "37d9d7a9-c26d-42fc-e688-7535f2a286bd"
   },
   "outputs": [
    {
     "name": "stdout",
     "output_type": "stream",
     "text": [
      "53\n",
      "30\n",
      "14\n",
      "9\n",
      "23\n",
      "39\n",
      "34\n",
      "49\n",
      "72\n",
      "61\n",
      "84\n",
      "79\n"
     ]
    }
   ],
   "source": [
    "arvore.pre_ordem(arvore.raiz)"
   ]
  },
  {
   "cell_type": "code",
   "execution_count": null,
   "metadata": {
    "colab": {
     "base_uri": "https://localhost:8080/",
     "height": 248
    },
    "id": "BdzLtNoe5Vb6",
    "outputId": "fab55e6c-59da-4d7b-9732-40bcb5f3b846"
   },
   "outputs": [
    {
     "name": "stdout",
     "output_type": "stream",
     "text": [
      "9\n",
      "14\n",
      "23\n",
      "30\n",
      "34\n",
      "39\n",
      "49\n",
      "53\n",
      "61\n",
      "72\n",
      "79\n",
      "84\n"
     ]
    }
   ],
   "source": [
    "arvore.em_ordem(arvore.raiz)"
   ]
  },
  {
   "cell_type": "code",
   "execution_count": null,
   "metadata": {
    "colab": {
     "base_uri": "https://localhost:8080/",
     "height": 248
    },
    "id": "47HGj0-N7YPj",
    "outputId": "2e659b06-e9c4-46ab-efb2-d0a21e73ca93"
   },
   "outputs": [
    {
     "name": "stdout",
     "output_type": "stream",
     "text": [
      "9\n",
      "23\n",
      "14\n",
      "34\n",
      "49\n",
      "39\n",
      "30\n",
      "61\n",
      "79\n",
      "84\n",
      "72\n",
      "53\n"
     ]
    }
   ],
   "source": [
    "arvore.pos_ordem(arvore.raiz)"
   ]
  },
  {
   "cell_type": "markdown",
   "metadata": {
    "id": "XiRU_kCLpcqP"
   },
   "source": [
    "### Excluir"
   ]
  },
  {
   "cell_type": "code",
   "execution_count": null,
   "metadata": {
    "id": "2BW02hOApeX2"
   },
   "outputs": [],
   "source": [
    "arvore.excluir(84)"
   ]
  },
  {
   "cell_type": "code",
   "execution_count": null,
   "metadata": {
    "colab": {
     "base_uri": "https://localhost:8080/",
     "height": 213
    },
    "id": "EGTry82opoqo",
    "outputId": "d1e7878c-bb9d-48f7-80d9-75d55ca25dce"
   },
   "outputs": [
    {
     "data": {
      "text/plain": [
       "['53->30',\n",
       " '30->14',\n",
       " '30->39',\n",
       " '14->9',\n",
       " '14->23',\n",
       " '39->34',\n",
       " '39->49',\n",
       " '53->72',\n",
       " '72->61',\n",
       " '72->79']"
      ]
     },
     "execution_count": 19,
     "metadata": {
      "tags": []
     },
     "output_type": "execute_result"
    }
   ],
   "source": [
    "arvore.ligacoes"
   ]
  },
  {
   "cell_type": "code",
   "execution_count": null,
   "metadata": {
    "colab": {
     "base_uri": "https://localhost:8080/",
     "height": 196
    },
    "id": "ZWsiEw8Pp5Gm",
    "outputId": "e4099856-050e-47a2-90f9-212761643825"
   },
   "outputs": [
    {
     "data": {
      "text/plain": [
       "['53->30',\n",
       " '30->14',\n",
       " '30->39',\n",
       " '14->23',\n",
       " '39->34',\n",
       " '39->49',\n",
       " '53->72',\n",
       " '72->61',\n",
       " '72->79']"
      ]
     },
     "execution_count": 20,
     "metadata": {
      "tags": []
     },
     "output_type": "execute_result"
    }
   ],
   "source": [
    "arvore.excluir(9)\n",
    "arvore.ligacoes"
   ]
  },
  {
   "cell_type": "code",
   "execution_count": null,
   "metadata": {
    "colab": {
     "base_uri": "https://localhost:8080/",
     "height": 178
    },
    "id": "9afpWsPHqCF4",
    "outputId": "43561ff3-1fea-4cad-aa7c-cf7f80fe42bb"
   },
   "outputs": [
    {
     "data": {
      "text/plain": [
       "['53->30',\n",
       " '30->39',\n",
       " '39->34',\n",
       " '39->49',\n",
       " '53->72',\n",
       " '72->61',\n",
       " '72->79',\n",
       " '30->23']"
      ]
     },
     "execution_count": 22,
     "metadata": {
      "tags": []
     },
     "output_type": "execute_result"
    }
   ],
   "source": [
    "arvore.excluir(14)\n",
    "arvore.ligacoes"
   ]
  },
  {
   "cell_type": "code",
   "execution_count": null,
   "metadata": {
    "colab": {
     "base_uri": "https://localhost:8080/",
     "height": 213
    },
    "id": "FBfJYccmKwxW",
    "outputId": "46afdd75-fd14-455d-c877-f68807bf05ee"
   },
   "outputs": [
    {
     "data": {
      "text/plain": [
       "['53->30',\n",
       " '30->14',\n",
       " '30->39',\n",
       " '14->9',\n",
       " '14->23',\n",
       " '39->34',\n",
       " '39->49',\n",
       " '53->79',\n",
       " '79->61',\n",
       " '79->84']"
      ]
     },
     "execution_count": 36,
     "metadata": {
      "tags": []
     },
     "output_type": "execute_result"
    }
   ],
   "source": [
    "arvore.excluir(72)\n",
    "arvore.ligacoes"
   ]
  },
  {
   "cell_type": "code",
   "execution_count": null,
   "metadata": {
    "colab": {
     "base_uri": "https://localhost:8080/",
     "height": 196
    },
    "id": "IwP2SmMULH6H",
    "outputId": "5dc13ab6-d876-4ee8-d6cd-487d332c8727"
   },
   "outputs": [
    {
     "data": {
      "text/plain": [
       "['14->9',\n",
       " '14->23',\n",
       " '39->49',\n",
       " '53->79',\n",
       " '79->61',\n",
       " '79->84',\n",
       " '53->34',\n",
       " '34->14',\n",
       " '34->39']"
      ]
     },
     "execution_count": 37,
     "metadata": {
      "tags": []
     },
     "output_type": "execute_result"
    }
   ],
   "source": [
    "arvore.excluir(30)\n",
    "arvore.ligacoes"
   ]
  },
  {
   "cell_type": "markdown",
   "metadata": {
    "id": "sX6bXxrJIW2p"
   },
   "source": [
    "### Sucessor"
   ]
  },
  {
   "cell_type": "code",
   "execution_count": null,
   "metadata": {
    "colab": {
     "base_uri": "https://localhost:8080/",
     "height": 55
    },
    "id": "_QTuVkKUIYga",
    "outputId": "f3a1071e-2dc0-41d4-8c4c-8c5e22a0287c"
   },
   "outputs": [
    {
     "data": {
      "text/plain": [
       "72"
      ]
     },
     "execution_count": 33,
     "metadata": {
      "tags": []
     },
     "output_type": "execute_result"
    }
   ],
   "source": [
    "arvore.get_sucessor(arvore.raiz).valor"
   ]
  },
  {
   "cell_type": "markdown",
   "metadata": {},
   "source": [
    "## Fim das Aulas 13 e 14"
   ]
  }
 ],
 "metadata": {
  "colab": {
   "collapsed_sections": [
    "WljSCEnx3KxU",
    "OW08RX1l0IKM"
   ],
   "provenance": []
  },
  "kernelspec": {
   "display_name": "Python [conda env:base] *",
   "language": "python",
   "name": "conda-base-py"
  },
  "language_info": {
   "codemirror_mode": {
    "name": "ipython",
    "version": 3
   },
   "file_extension": ".py",
   "mimetype": "text/x-python",
   "name": "python",
   "nbconvert_exporter": "python",
   "pygments_lexer": "ipython3",
   "version": "3.12.7"
  }
 },
 "nbformat": 4,
 "nbformat_minor": 4
}
