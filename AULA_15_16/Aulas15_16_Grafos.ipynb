{
 "cells": [
  {
   "cell_type": "markdown",
   "metadata": {},
   "source": [
    "![Algoritmos e Estrutura de Dados II - Prof Piva](AED2_banner.jpg)"
   ]
  },
  {
   "cell_type": "markdown",
   "metadata": {
    "id": "r2ZZwVzmSD9w"
   },
   "source": [
    "## Aulas 15 e 16 - Grafos"
   ]
  },
  {
   "cell_type": "markdown",
   "metadata": {},
   "source": [
    "![Imagem Grafo](grafo.jpg)"
   ]
  },
  {
   "cell_type": "markdown",
   "metadata": {},
   "source": [
    "Uma das formas de criação de um grafo...\n",
    "Construção da classe `Vertice` (ou Nó) e da classe `Adjacente` (ou aresta).  Em seguida constroe-se o grafo (com a classe `Grafo`)."
   ]
  },
  {
   "cell_type": "code",
   "execution_count": 4,
   "metadata": {
    "id": "rGIHqLD8WcrS"
   },
   "outputs": [],
   "source": [
    "# definição da classe Vertice ou Nó\n",
    "class Vertice:\n",
    "  def __init__(self, rotulo):\n",
    "    self.rotulo = rotulo\n",
    "    self.visitado = False\n",
    "    self.adjacentes = []\n",
    "\n",
    "  def adiciona_adjacente(self, adjacente):\n",
    "    self.adjacentes.append(adjacente)\n",
    "\n",
    "  def mostra_adjacentes(self):\n",
    "    for i in self.adjacentes:\n",
    "      print(i.vertice.rotulo, i.custo)"
   ]
  },
  {
   "cell_type": "code",
   "execution_count": 6,
   "metadata": {
    "id": "olK_U1JyXeAe"
   },
   "outputs": [],
   "source": [
    "# Definição da classe Adjacente ou Aresta\n",
    "class Adjacente:\n",
    "  def __init__(self, vertice, custo):\n",
    "    self.vertice = vertice\n",
    "    self.custo = custo"
   ]
  },
  {
   "cell_type": "markdown",
   "metadata": {},
   "source": [
    "![Mapa São Paulo](saopaulo.JPG)"
   ]
  },
  {
   "cell_type": "code",
   "execution_count": 10,
   "metadata": {
    "id": "04-TPfvlXrn0"
   },
   "outputs": [],
   "source": [
    "class Grafo:\n",
    "    sorocaba = Vertice('Sorocaba')\n",
    "    saopaulo = Vertice('São Paulo')\n",
    "    campinas = Vertice('Campinas')\n",
    "    botucatu = Vertice('Botucatu')\n",
    "    limeira = Vertice('Limeira')\n",
    "    ribeiraopreto = Vertice('Ribeirão Preto')\n",
    "    jau = Vertice('Jaú')\n",
    "    saocarlos = Vertice('São Carlos')\n",
    "    sjriopreto = Vertice('S. J. Rio Preto')\n",
    "    barretos = Vertice('Barretos')\n",
    "    \n",
    "    sorocaba.adiciona_adjacente(Adjacente(saopaulo, 87))\n",
    "    sorocaba.adiciona_adjacente(Adjacente(campinas, 85))\n",
    "    sorocaba.adiciona_adjacente(Adjacente(botucatu, 152))\n",
    "    \n",
    "    saopaulo.adiciona_adjacente(Adjacente(sorocaba, 87))\n",
    "    saopaulo.adiciona_adjacente(Adjacente(campinas, 95))\n",
    "    \n",
    "    campinas.adiciona_adjacente(Adjacente(saopaulo, 95))\n",
    "    campinas.adiciona_adjacente(Adjacente(sorocaba, 85))\n",
    "    campinas.adiciona_adjacente(Adjacente(limeira, 54))\n",
    "    campinas.adiciona_adjacente(Adjacente(ribeiraopreto, 238))\n",
    "\n",
    "    botucatu.adiciona_adjacente(Adjacente(sorocaba, 152))\n",
    "    botucatu.adiciona_adjacente(Adjacente(jau, 76))\n",
    "\n",
    "    limeira.adiciona_adjacente(Adjacente(campinas, 54))\n",
    "    limeira.adiciona_adjacente(Adjacente(saocarlos, 98))\n",
    "\n",
    "    ribeiraopreto.adiciona_adjacente(Adjacente(campinas, 238))\n",
    "    ribeiraopreto.adiciona_adjacente(Adjacente(barretos, 127))\n",
    "\n",
    "    jau.adiciona_adjacente(Adjacente(botucatu, 76))\n",
    "    jau.adiciona_adjacente(Adjacente(saocarlos, 99))\n",
    "\n",
    "    saocarlos.adiciona_adjacente(Adjacente(jau, 99))\n",
    "    saocarlos.adiciona_adjacente(Adjacente(limeira, 98))\n",
    "    saocarlos.adiciona_adjacente(Adjacente(barretos, 226))\n",
    "    saocarlos.adiciona_adjacente(Adjacente(sjriopreto, 216))\n",
    "\n",
    "    sjriopreto.adiciona_adjacente(Adjacente(saocarlos, 216))\n",
    "    sjriopreto.adiciona_adjacente(Adjacente(barretos, 95))\n",
    "\n",
    "    barretos.adiciona_adjacente(Adjacente(saocarlos, 226))\n",
    "    barretos.adiciona_adjacente(Adjacente(ribeiraopreto, 127))\n",
    "    barretos.adiciona_adjacente(Adjacente(sjriopreto, 95))"
   ]
  },
  {
   "cell_type": "code",
   "execution_count": 12,
   "metadata": {
    "id": "tW6iKSDpZLWD"
   },
   "outputs": [],
   "source": [
    "grafo = Grafo()"
   ]
  },
  {
   "cell_type": "code",
   "execution_count": 14,
   "metadata": {
    "colab": {
     "base_uri": "https://localhost:8080/",
     "height": 90
    },
    "id": "PAFvJG9FZOKQ",
    "outputId": "f4edc759-b516-4072-80b8-e0d7af9f2ab0"
   },
   "outputs": [
    {
     "name": "stdout",
     "output_type": "stream",
     "text": [
      "Sorocaba 87\n",
      "Campinas 95\n"
     ]
    }
   ],
   "source": [
    "grafo.saopaulo.mostra_adjacentes()"
   ]
  },
  {
   "cell_type": "code",
   "execution_count": 16,
   "metadata": {
    "colab": {
     "base_uri": "https://localhost:8080/",
     "height": 90
    },
    "id": "Sw5FEdTnZS6m",
    "outputId": "0087386e-44e5-4388-a877-ea1f332ec1f9"
   },
   "outputs": [
    {
     "name": "stdout",
     "output_type": "stream",
     "text": [
      "São Paulo 87\n",
      "Campinas 85\n",
      "Botucatu 152\n"
     ]
    }
   ],
   "source": [
    "grafo.sorocaba.mostra_adjacentes()"
   ]
  },
  {
   "cell_type": "markdown",
   "metadata": {
    "id": "aIjre2EzLXB0"
   },
   "source": [
    "### Recapitulando a criação da classe Pilha"
   ]
  },
  {
   "cell_type": "markdown",
   "metadata": {},
   "source": [
    "Vamos utilizar uma pilha para realizar o percurso em um grafo **em profundidade**."
   ]
  },
  {
   "cell_type": "code",
   "execution_count": 18,
   "metadata": {
    "id": "bHnGlmCQLYoH"
   },
   "outputs": [],
   "source": [
    "import numpy as np\n",
    "class Pilha:\n",
    "  def __init__(self, capacidade):\n",
    "    self.__capacidade = capacidade\n",
    "    self.__topo = -1\n",
    "\n",
    "    # Mudança do tipo do array\n",
    "    self.__valores = np.empty(self.__capacidade, dtype=object)\n",
    "\n",
    "  def __pilha_cheia(self):\n",
    "    if self.__topo == self.__capacidade - 1:\n",
    "      return True\n",
    "    else:\n",
    "      return False\n",
    "\n",
    "  def __pilha_vazia(self):\n",
    "    if self.__topo == -1:\n",
    "      return True\n",
    "    else:\n",
    "      return False\n",
    "\n",
    "  def empilhar(self, valor):\n",
    "    if self.__pilha_cheia():\n",
    "      print('A pilha está cheia')\n",
    "    else:\n",
    "      self.__topo += 1\n",
    "      self.__valores[self.__topo] = valor\n",
    "\n",
    "  def desempilhar(self):\n",
    "    # Retorna o elemento desempilhado\n",
    "    if self.__pilha_vazia():\n",
    "      print('A pilha está vazia')\n",
    "      return None\n",
    "    else:\n",
    "      temp = self.__valores[self.__topo]\n",
    "      self.__topo -= 1\n",
    "      return temp\n",
    "\n",
    "  def ver_topo(self):\n",
    "    if self.__topo != -1:\n",
    "      return self.__valores[self.__topo]\n",
    "    else:\n",
    "      return -1"
   ]
  },
  {
   "cell_type": "code",
   "execution_count": 20,
   "metadata": {
    "id": "P9p9N7quMX0y"
   },
   "outputs": [],
   "source": [
    "pilha = Pilha(5)\n",
    "pilha.empilhar(grafo.saopaulo)\n",
    "pilha.empilhar(grafo.sorocaba)\n",
    "pilha.empilhar(grafo.campinas)"
   ]
  },
  {
   "cell_type": "code",
   "execution_count": 22,
   "metadata": {
    "colab": {
     "base_uri": "https://localhost:8080/",
     "height": 57
    },
    "id": "quKMw6s9Mugl",
    "outputId": "250cc13c-c4ac-4576-bd73-3e96a35e46a3"
   },
   "outputs": [
    {
     "data": {
      "text/plain": [
       "'Campinas'"
      ]
     },
     "execution_count": 22,
     "metadata": {},
     "output_type": "execute_result"
    }
   ],
   "source": [
    "pilha.ver_topo().rotulo"
   ]
  },
  {
   "cell_type": "code",
   "execution_count": 24,
   "metadata": {
    "colab": {
     "base_uri": "https://localhost:8080/",
     "height": 57
    },
    "id": "JR_TZIb-QmN_",
    "outputId": "3e8b28ce-81f3-45dd-bedd-167a1f6c2bf0"
   },
   "outputs": [
    {
     "data": {
      "text/plain": [
       "'Campinas'"
      ]
     },
     "execution_count": 24,
     "metadata": {},
     "output_type": "execute_result"
    }
   ],
   "source": [
    "pilha.desempilhar().rotulo"
   ]
  },
  {
   "cell_type": "code",
   "execution_count": 26,
   "metadata": {
    "colab": {
     "base_uri": "https://localhost:8080/",
     "height": 57
    },
    "id": "PvwOp1PrM0PB",
    "outputId": "61e16299-7e55-468e-c1f5-b7e127dc6735"
   },
   "outputs": [
    {
     "data": {
      "text/plain": [
       "'Sorocaba'"
      ]
     },
     "execution_count": 26,
     "metadata": {},
     "output_type": "execute_result"
    }
   ],
   "source": [
    "pilha.desempilhar().rotulo"
   ]
  },
  {
   "cell_type": "code",
   "execution_count": 28,
   "metadata": {},
   "outputs": [
    {
     "data": {
      "text/plain": [
       "'São Paulo'"
      ]
     },
     "execution_count": 28,
     "metadata": {},
     "output_type": "execute_result"
    }
   ],
   "source": [
    "pilha.ver_topo().rotulo"
   ]
  },
  {
   "cell_type": "markdown",
   "metadata": {
    "id": "Lmvbw_KeNYvX"
   },
   "source": [
    "### Busca em profundidade em Grafos"
   ]
  },
  {
   "cell_type": "markdown",
   "metadata": {},
   "source": [
    " Ideia geral: a cada vértice descoberto, explorar um de seus vizinhos não visitados (sempre que possível). \n",
    " Imita exploração de labirinto, aprofundando sempre que possível.\n",
    " Também é conhecido em inglês como: **Depth-First Search - DFS**"
   ]
  },
  {
   "cell_type": "code",
   "execution_count": 30,
   "metadata": {
    "id": "m0f_tdRdu68J"
   },
   "outputs": [],
   "source": [
    "# criando a classe para realizar a busca em profundidade\n",
    "class BuscaProfundidade:\n",
    "  def __init__(self, inicio):\n",
    "    self.inicio = inicio\n",
    "    self.inicio.visitado = True\n",
    "    self.pilha = Pilha(20)\n",
    "    self.pilha.empilhar(inicio)\n",
    "\n",
    "  def buscar(self):\n",
    "    topo = self.pilha.ver_topo()\n",
    "    print(f'Topo: {topo.rotulo}')\n",
    "    for adjacente in topo.adjacentes:\n",
    "      print(f'Topo é {topo.rotulo}. {adjacente.vertice.rotulo} já foi visitada? {adjacente.vertice.visitado}')\n",
    "      if adjacente.vertice.visitado == False:\n",
    "        adjacente.vertice.visitado = True\n",
    "        self.pilha.empilhar(adjacente.vertice)\n",
    "        print(f'Empilhou {adjacente.vertice.rotulo}')\n",
    "        self.buscar()\n",
    "    print(f'Desempilhou: {self.pilha.desempilhar().rotulo}')\n",
    "    print()"
   ]
  },
  {
   "cell_type": "code",
   "execution_count": 32,
   "metadata": {
    "colab": {
     "base_uri": "https://localhost:8080/",
     "height": 1000
    },
    "id": "aHDSzwC_wqM4",
    "outputId": "53dad56d-1641-4d6b-f610-4c5ca5b3e499"
   },
   "outputs": [
    {
     "name": "stdout",
     "output_type": "stream",
     "text": [
      "Topo: São Paulo\n",
      "Topo é São Paulo. Sorocaba já foi visitada? False\n",
      "Empilhou Sorocaba\n",
      "Topo: Sorocaba\n",
      "Topo é Sorocaba. São Paulo já foi visitada? True\n",
      "Topo é Sorocaba. Campinas já foi visitada? False\n",
      "Empilhou Campinas\n",
      "Topo: Campinas\n",
      "Topo é Campinas. São Paulo já foi visitada? True\n",
      "Topo é Campinas. Sorocaba já foi visitada? True\n",
      "Topo é Campinas. Limeira já foi visitada? False\n",
      "Empilhou Limeira\n",
      "Topo: Limeira\n",
      "Topo é Limeira. Campinas já foi visitada? True\n",
      "Topo é Limeira. São Carlos já foi visitada? False\n",
      "Empilhou São Carlos\n",
      "Topo: São Carlos\n",
      "Topo é São Carlos. Jaú já foi visitada? False\n",
      "Empilhou Jaú\n",
      "Topo: Jaú\n",
      "Topo é Jaú. Botucatu já foi visitada? False\n",
      "Empilhou Botucatu\n",
      "Topo: Botucatu\n",
      "Topo é Botucatu. Sorocaba já foi visitada? True\n",
      "Topo é Botucatu. Jaú já foi visitada? True\n",
      "Desempilhou: Botucatu\n",
      "\n",
      "Topo é Jaú. São Carlos já foi visitada? True\n",
      "Desempilhou: Jaú\n",
      "\n",
      "Topo é São Carlos. Limeira já foi visitada? True\n",
      "Topo é São Carlos. Barretos já foi visitada? False\n",
      "Empilhou Barretos\n",
      "Topo: Barretos\n",
      "Topo é Barretos. São Carlos já foi visitada? True\n",
      "Topo é Barretos. Ribeirão Preto já foi visitada? False\n",
      "Empilhou Ribeirão Preto\n",
      "Topo: Ribeirão Preto\n",
      "Topo é Ribeirão Preto. Campinas já foi visitada? True\n",
      "Topo é Ribeirão Preto. Barretos já foi visitada? True\n",
      "Desempilhou: Ribeirão Preto\n",
      "\n",
      "Topo é Barretos. S. J. Rio Preto já foi visitada? False\n",
      "Empilhou S. J. Rio Preto\n",
      "Topo: S. J. Rio Preto\n",
      "Topo é S. J. Rio Preto. São Carlos já foi visitada? True\n",
      "Topo é S. J. Rio Preto. Barretos já foi visitada? True\n",
      "Desempilhou: S. J. Rio Preto\n",
      "\n",
      "Desempilhou: Barretos\n",
      "\n",
      "Topo é São Carlos. S. J. Rio Preto já foi visitada? True\n",
      "Desempilhou: São Carlos\n",
      "\n",
      "Desempilhou: Limeira\n",
      "\n",
      "Topo é Campinas. Ribeirão Preto já foi visitada? True\n",
      "Desempilhou: Campinas\n",
      "\n",
      "Topo é Sorocaba. Botucatu já foi visitada? True\n",
      "Desempilhou: Sorocaba\n",
      "\n",
      "Topo é São Paulo. Campinas já foi visitada? True\n",
      "Desempilhou: São Paulo\n",
      "\n"
     ]
    }
   ],
   "source": [
    "busca_profundidade = BuscaProfundidade(grafo.saopaulo)\n",
    "busca_profundidade.buscar()"
   ]
  },
  {
   "cell_type": "code",
   "execution_count": 34,
   "metadata": {
    "colab": {
     "base_uri": "https://localhost:8080/",
     "height": 55
    },
    "id": "CJZEopFxxnpD",
    "outputId": "c363ab0b-c600-4037-9507-e12fe54a3e58"
   },
   "outputs": [
    {
     "data": {
      "text/plain": [
       "-1"
      ]
     },
     "execution_count": 34,
     "metadata": {},
     "output_type": "execute_result"
    }
   ],
   "source": [
    "busca_profundidade.pilha.ver_topo()"
   ]
  },
  {
   "cell_type": "markdown",
   "metadata": {
    "id": "ybOXinjWgFej"
   },
   "source": [
    "### Recapitulando a criação de uma classe Fila"
   ]
  },
  {
   "cell_type": "markdown",
   "metadata": {},
   "source": [
    "Vamos utilizar uma fila para realizar o percurso em um grafo **em largura**."
   ]
  },
  {
   "cell_type": "code",
   "execution_count": 36,
   "metadata": {
    "id": "W3_pc-6QgG6C"
   },
   "outputs": [],
   "source": [
    "# criando a classe Fila (de uma forma especial, circular...)\n",
    "class FilaCircular:\n",
    "\n",
    "  def __init__(self, capacidade):\n",
    "    self.capacidade = capacidade\n",
    "    self.inicio = 0\n",
    "    self.final = -1\n",
    "    self.numero_elementos = 0\n",
    "\n",
    "    # Mudança no tipo de dado\n",
    "    self.valores = np.empty(self.capacidade, dtype=object)\n",
    "\n",
    "  def __fila_vazia(self):\n",
    "    return self.numero_elementos == 0\n",
    "\n",
    "  def __fila_cheia(self):\n",
    "    return self.numero_elementos == self.capacidade\n",
    "\n",
    "  def enfileirar(self, valor):\n",
    "    if self.__fila_cheia():\n",
    "      print('A fila está cheia')\n",
    "      return\n",
    "\n",
    "    if self.final == self.capacidade - 1:\n",
    "      self.final = -1\n",
    "    self.final += 1\n",
    "    self.valores[self.final] = valor\n",
    "    self.numero_elementos += 1\n",
    "\n",
    "  def desenfileirar(self):\n",
    "    if self.__fila_vazia():\n",
    "      print('A fila já está vazia')\n",
    "      return\n",
    "\n",
    "    temp = self.valores[self.inicio]\n",
    "    self.inicio += 1\n",
    "    if self.inicio == self.capacidade - 1:\n",
    "      self.inicio = 0\n",
    "    self.numero_elementos -= 1\n",
    "    return temp\n",
    "\n",
    "  def primeiro(self):\n",
    "    if self.__fila_vazia():\n",
    "      return -1\n",
    "    return self.valores[self.inicio]"
   ]
  },
  {
   "cell_type": "code",
   "execution_count": 38,
   "metadata": {
    "id": "ibWN7A9WgpvU"
   },
   "outputs": [],
   "source": [
    "fila = FilaCircular(20)"
   ]
  },
  {
   "cell_type": "code",
   "execution_count": 40,
   "metadata": {
    "id": "7vDZ-OiJgwbX"
   },
   "outputs": [],
   "source": [
    "fila.enfileirar(grafo.saopaulo)\n",
    "fila.enfileirar(grafo.campinas)\n",
    "fila.enfileirar(grafo.sorocaba)"
   ]
  },
  {
   "cell_type": "code",
   "execution_count": 42,
   "metadata": {
    "colab": {
     "base_uri": "https://localhost:8080/",
     "height": 57
    },
    "id": "JbiGsCdTg4Jr",
    "outputId": "a44916d1-72db-45b3-8544-43e726e401dc"
   },
   "outputs": [
    {
     "data": {
      "text/plain": [
       "'São Paulo'"
      ]
     },
     "execution_count": 42,
     "metadata": {},
     "output_type": "execute_result"
    }
   ],
   "source": [
    "fila.primeiro().rotulo"
   ]
  },
  {
   "cell_type": "code",
   "execution_count": 44,
   "metadata": {
    "colab": {
     "base_uri": "https://localhost:8080/",
     "height": 57
    },
    "id": "xNeFkPpcg_IM",
    "outputId": "041998d2-3ea5-4217-fb3c-f6fcbbf0cf78"
   },
   "outputs": [
    {
     "data": {
      "text/plain": [
       "'São Paulo'"
      ]
     },
     "execution_count": 44,
     "metadata": {},
     "output_type": "execute_result"
    }
   ],
   "source": [
    "fila.desenfileirar().rotulo"
   ]
  },
  {
   "cell_type": "code",
   "execution_count": 46,
   "metadata": {
    "colab": {
     "base_uri": "https://localhost:8080/",
     "height": 57
    },
    "id": "HATGtcG4hDM2",
    "outputId": "a5dc378c-d155-41b0-c7bb-e283f1a96209"
   },
   "outputs": [
    {
     "data": {
      "text/plain": [
       "'Campinas'"
      ]
     },
     "execution_count": 46,
     "metadata": {},
     "output_type": "execute_result"
    }
   ],
   "source": [
    "fila.primeiro().rotulo"
   ]
  },
  {
   "cell_type": "markdown",
   "metadata": {
    "id": "2h1xAhvthIlu"
   },
   "source": [
    "### Busca em largura em Grafos"
   ]
  },
  {
   "cell_type": "markdown",
   "metadata": {},
   "source": [
    "Ideia geral: a cada novo nível descoberto, todos os vértices daquele nível devem ser visitados antes de prosseguir para o próximo nível. Também é conhecido em inglês por **Breadth-First Search - BFS**"
   ]
  },
  {
   "cell_type": "code",
   "execution_count": 48,
   "metadata": {
    "id": "0hUVQZkW5VLG"
   },
   "outputs": [],
   "source": [
    "# Implementa a classe que realiza a busca em largura em grafo\n",
    "class BuscaLargura:\n",
    "  def __init__(self, inicio):\n",
    "    self.inicio = inicio\n",
    "    self.inicio.visitado = True\n",
    "    self.fila = FilaCircular(20)\n",
    "    self.fila.enfileirar(inicio)\n",
    "\n",
    "  def buscar(self):\n",
    "    primeiro = self.fila.primeiro()\n",
    "    print('-------')\n",
    "    print(f'Primeiro da fila: {primeiro.rotulo}')\n",
    "    temp = self.fila.desenfileirar()\n",
    "    print(f'Desenfileirou: {temp.rotulo}')\n",
    "    for adjacente in primeiro.adjacentes:\n",
    "      print(f'Primeiro era {temp.rotulo}. {adjacente.vertice.rotulo} já foi visitado? {adjacente.vertice.visitado}')\n",
    "      if adjacente.vertice.visitado == False:\n",
    "        adjacente.vertice.visitado = True\n",
    "        self.fila.enfileirar(adjacente.vertice)\n",
    "        print(f'Enfileirou: {adjacente.vertice.rotulo}')\n",
    "    if self.fila.numero_elementos > 0:\n",
    "      self.buscar()"
   ]
  },
  {
   "cell_type": "code",
   "execution_count": 50,
   "metadata": {
    "colab": {
     "base_uri": "https://localhost:8080/",
     "height": 1000
    },
    "id": "eO_lM17P68vV",
    "outputId": "8ac45a1f-b107-4703-c648-214ee354db9f"
   },
   "outputs": [
    {
     "name": "stdout",
     "output_type": "stream",
     "text": [
      "-------\n",
      "Primeiro da fila: São Paulo\n",
      "Desenfileirou: São Paulo\n",
      "Primeiro era São Paulo. Sorocaba já foi visitado? True\n",
      "Primeiro era São Paulo. Campinas já foi visitado? True\n"
     ]
    }
   ],
   "source": [
    "busca_largura = BuscaLargura(grafo.saopaulo)\n",
    "busca_largura.buscar()"
   ]
  },
  {
   "cell_type": "code",
   "execution_count": 52,
   "metadata": {
    "colab": {
     "base_uri": "https://localhost:8080/",
     "height": 55
    },
    "id": "2Ulz5-PG7Ztv",
    "outputId": "cbed8cad-f376-44f8-c637-d170da91234e"
   },
   "outputs": [
    {
     "data": {
      "text/plain": [
       "0"
      ]
     },
     "execution_count": 52,
     "metadata": {},
     "output_type": "execute_result"
    }
   ],
   "source": [
    "busca_largura.fila.numero_elementos"
   ]
  },
  {
   "cell_type": "markdown",
   "metadata": {},
   "source": [
    "## Fim das Aulas 15 e 16"
   ]
  }
 ],
 "metadata": {
  "colab": {
   "provenance": []
  },
  "kernelspec": {
   "display_name": "Python [conda env:base] *",
   "language": "python",
   "name": "conda-base-py"
  },
  "language_info": {
   "codemirror_mode": {
    "name": "ipython",
    "version": 3
   },
   "file_extension": ".py",
   "mimetype": "text/x-python",
   "name": "python",
   "nbconvert_exporter": "python",
   "pygments_lexer": "ipython3",
   "version": "3.12.7"
  }
 },
 "nbformat": 4,
 "nbformat_minor": 4
}
