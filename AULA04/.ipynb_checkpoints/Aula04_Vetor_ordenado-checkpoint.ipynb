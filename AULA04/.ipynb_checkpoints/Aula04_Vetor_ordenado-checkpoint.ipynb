{
 "cells": [
  {
   "cell_type": "markdown",
   "metadata": {},
   "source": [
    "![Algoritmos e Estrutura de Dados II - Prof Piva](AED2_banner.jpg)"
   ]
  },
  {
   "cell_type": "markdown",
   "metadata": {
    "id": "3L3hMZxPloS9"
   },
   "source": [
    "## Aula 4 - Vetor ordenado (busca binária)"
   ]
  },
  {
   "cell_type": "markdown",
   "metadata": {},
   "source": [
    "### Primeira Implementação (sem OO)"
   ]
  },
  {
   "cell_type": "markdown",
   "metadata": {},
   "source": [
    "Problema: buscar um valor v em uma lista sequencial ordenada com N elementos\n",
    "\n",
    "- o tempo de busca pode ser reduzido significantemente devido a relação entre os elementos da lista\n",
    "- mesmo para um conjunto de elementos é grande"
   ]
  },
  {
   "cell_type": "code",
   "execution_count": 5,
   "metadata": {},
   "outputs": [],
   "source": [
    "def busca_binaria(v, lista_ord):\n",
    "    esquerda = 0\n",
    "    direita = len(lista_ord) - 1\n",
    "    while esquerda <= direita:\n",
    "        meio = (esquerda + direita) // 2\n",
    "        if v == lista_ord[meio]:\n",
    "            return meio\n",
    "        elif v < lista_ord[meio]:\n",
    "            direita = meio - 1\n",
    "        else:\n",
    "            esquerda = meio + 1\n",
    "    return -1"
   ]
  },
  {
   "cell_type": "code",
   "execution_count": 59,
   "metadata": {},
   "outputs": [
    {
     "name": "stdout",
     "output_type": "stream",
     "text": [
      "O valor 7 foi encontrado na posição 6 !\n"
     ]
    }
   ],
   "source": [
    "# TESTANDO\n",
    "lista = [1, 2, 3, 4, 5, 6, 7, 8, 9, 10, 11, 12, 13]\n",
    "i = busca_binaria(7, lista)\n",
    "if i != -1:\n",
    "    print(f\"O valor {lista[i]} foi encontrado na posição {i} !\")\n",
    "else:\n",
    "    print(\"O valor não foi encontrado!\")"
   ]
  },
  {
   "cell_type": "code",
   "execution_count": 12,
   "metadata": {},
   "outputs": [
    {
     "name": "stdout",
     "output_type": "stream",
     "text": [
      "O valor não foi encontrado!\n"
     ]
    }
   ],
   "source": [
    "# TESTANDO\n",
    "lista = [1, 2, 3, 4, 5, 6, 7, 8, 9, 10, 11, 12, 13]\n",
    "i = busca_binaria(27, lista)\n",
    "if i != -1:\n",
    "    print(f\"O valor {lista[i]} foi encontrado na posição {i} !\")\n",
    "else:\n",
    "    print(\"O valor não foi encontrado!\")"
   ]
  },
  {
   "cell_type": "markdown",
   "metadata": {},
   "source": [
    "### Segunda Implementação (com OO)"
   ]
  },
  {
   "cell_type": "code",
   "execution_count": null,
   "metadata": {
    "id": "ilKOzbksUosx"
   },
   "outputs": [],
   "source": [
    "import numpy as np"
   ]
  },
  {
   "cell_type": "code",
   "execution_count": null,
   "metadata": {
    "id": "EI9-ginDUr7z"
   },
   "outputs": [],
   "source": [
    "class VetorOrdenado:\n",
    "\n",
    "  def __init__(self, capacidade):\n",
    "    self.capacidade = capacidade\n",
    "    self.ultima_posicao = -1\n",
    "    self.valores = np.empty(self.capacidade, dtype=int)\n",
    "\n",
    "  # O(n)\n",
    "  def imprime(self):\n",
    "    if self.ultima_posicao == -1:\n",
    "      print('O vetor está vazio')\n",
    "    else:\n",
    "      for i in range(self.ultima_posicao + 1):\n",
    "        print(i, ' - ', self.valores[i])\n",
    "\n",
    "  # O(n)\n",
    "  def insere(self, valor):\n",
    "    if self.ultima_posicao == self.capacidade - 1:\n",
    "      print('Capacidade máxima atingida')\n",
    "      return\n",
    "\n",
    "    posicao = 0\n",
    "    for i in range(self.ultima_posicao + 1):\n",
    "      posicao = i\n",
    "      if self.valores[i] > valor:\n",
    "        break\n",
    "      if i == self.ultima_posicao:\n",
    "        posicao = i + 1\n",
    "\n",
    "    x = self.ultima_posicao\n",
    "    while x >= posicao:\n",
    "      self.valores[x + 1] = self.valores[x]\n",
    "      x -= 1\n",
    "\n",
    "    self.valores[posicao] = valor\n",
    "    self.ultima_posicao += 1"
   ]
  },
  {
   "cell_type": "code",
   "execution_count": null,
   "metadata": {
    "colab": {
     "base_uri": "https://localhost:8080/",
     "height": 55
    },
    "id": "stsNs_K8nn4r",
    "outputId": "0cceb095-520f-43ac-b7d6-a75bfbfd6c03"
   },
   "outputs": [
    {
     "name": "stdout",
     "output_type": "stream",
     "text": [
      "O vetor está vazio\n"
     ]
    }
   ],
   "source": [
    "vetor = VetorOrdenado(10)\n",
    "vetor.imprime()"
   ]
  },
  {
   "cell_type": "code",
   "execution_count": null,
   "metadata": {
    "colab": {
     "base_uri": "https://localhost:8080/",
     "height": 55
    },
    "id": "6OQR86hMnr74",
    "outputId": "24a67306-41ea-43cb-cb91-c2325a9eccef"
   },
   "outputs": [
    {
     "name": "stdout",
     "output_type": "stream",
     "text": [
      "0  -  6\n"
     ]
    }
   ],
   "source": [
    "vetor.insere(6)\n",
    "vetor.imprime()"
   ]
  },
  {
   "cell_type": "code",
   "execution_count": null,
   "metadata": {
    "colab": {
     "base_uri": "https://localhost:8080/",
     "height": 72
    },
    "id": "2SD9iJjrnzpB",
    "outputId": "90c4d2d2-0890-4c55-81a6-fa6f285fbf6e"
   },
   "outputs": [
    {
     "name": "stdout",
     "output_type": "stream",
     "text": [
      "0  -  4\n",
      "1  -  6\n"
     ]
    }
   ],
   "source": [
    "vetor.insere(4)\n",
    "vetor.imprime()"
   ]
  },
  {
   "cell_type": "code",
   "execution_count": null,
   "metadata": {
    "colab": {
     "base_uri": "https://localhost:8080/",
     "height": 90
    },
    "id": "UZiJuluyn4iq",
    "outputId": "a1139beb-1972-4002-8271-423437eb14f0"
   },
   "outputs": [
    {
     "name": "stdout",
     "output_type": "stream",
     "text": [
      "0  -  3\n",
      "1  -  4\n",
      "2  -  6\n"
     ]
    }
   ],
   "source": [
    "vetor.insere(3)\n",
    "vetor.imprime()"
   ]
  },
  {
   "cell_type": "code",
   "execution_count": null,
   "metadata": {
    "colab": {
     "base_uri": "https://localhost:8080/",
     "height": 108
    },
    "id": "-EtyqP3ln--6",
    "outputId": "f144630e-aefb-4e49-f7d3-b216acb9d6ad"
   },
   "outputs": [
    {
     "name": "stdout",
     "output_type": "stream",
     "text": [
      "0  -  3\n",
      "1  -  4\n",
      "2  -  5\n",
      "3  -  6\n"
     ]
    }
   ],
   "source": [
    "vetor.insere(5)\n",
    "vetor.imprime()"
   ]
  },
  {
   "cell_type": "code",
   "execution_count": null,
   "metadata": {
    "colab": {
     "base_uri": "https://localhost:8080/",
     "height": 125
    },
    "id": "Ij44GQWRoE8-",
    "outputId": "1afbfa5b-7a32-4695-db4b-a95890504ba3"
   },
   "outputs": [
    {
     "name": "stdout",
     "output_type": "stream",
     "text": [
      "0  -  1\n",
      "1  -  3\n",
      "2  -  4\n",
      "3  -  5\n",
      "4  -  6\n"
     ]
    }
   ],
   "source": [
    "vetor.insere(1)\n",
    "vetor.imprime()"
   ]
  },
  {
   "cell_type": "code",
   "execution_count": null,
   "metadata": {
    "colab": {
     "base_uri": "https://localhost:8080/",
     "height": 143
    },
    "collapsed": true,
    "id": "PHQuMp8aoKX3",
    "jupyter": {
     "outputs_hidden": true
    },
    "outputId": "70c5c040-7c42-4fa8-8cba-92793d0e7296"
   },
   "outputs": [
    {
     "name": "stdout",
     "output_type": "stream",
     "text": [
      "0  -  1\n",
      "1  -  3\n",
      "2  -  4\n",
      "3  -  5\n",
      "4  -  6\n",
      "5  -  8\n"
     ]
    }
   ],
   "source": [
    "vetor.insere(8)\n",
    "vetor.imprime()"
   ]
  },
  {
   "cell_type": "markdown",
   "metadata": {},
   "source": [
    "## Fim Aula 5"
   ]
  },
  {
   "cell_type": "code",
   "execution_count": 61,
   "metadata": {},
   "outputs": [],
   "source": [
    "#assinatura\n",
    "def busca_binaria(v, lista_ord):\n",
    "    # inicializar as variáveis\n",
    "    esquerda = 0\n",
    "    direita = len(lista_ord)-1\n",
    "    # lopping de repetição\n",
    "    while esquerda <= direita:\n",
    "        # encontrar o meio e verificações\n",
    "        meio = (esquerda + direita) // 2\n",
    "        if lista_ord[meio] == v:\n",
    "            return meio\n",
    "        elif v < lista_ord[meio]:\n",
    "            direita = meio - 1\n",
    "        else:\n",
    "            esquerda = meio + 1\n",
    "    \n",
    "    # caso não encontrado - retornar -1\n",
    "    return -1"
   ]
  },
  {
   "cell_type": "code",
   "execution_count": 65,
   "metadata": {},
   "outputs": [
    {
     "name": "stdin",
     "output_type": "stream",
     "text": [
      "Digite um número:  5\n"
     ]
    },
    {
     "name": "stdout",
     "output_type": "stream",
     "text": [
      "O valor não existe na lista!\n"
     ]
    }
   ],
   "source": [
    "l = [1,4,7,9,10,12,23,56,78,90]\n",
    "v = int(input(\"Digite um número: \"))\n",
    "i = busca_binaria(v, l)\n",
    "if i == -1:\n",
    "    print(\"O valor não existe na lista!\")\n",
    "else:\n",
    "    print(f\"O valor {v} existe na lista e esta na posição {i}!\")"
   ]
  }
 ],
 "metadata": {
  "colab": {
   "provenance": []
  },
  "kernelspec": {
   "display_name": "Python [conda env:base] *",
   "language": "python",
   "name": "conda-base-py"
  },
  "language_info": {
   "codemirror_mode": {
    "name": "ipython",
    "version": 3
   },
   "file_extension": ".py",
   "mimetype": "text/x-python",
   "name": "python",
   "nbconvert_exporter": "python",
   "pygments_lexer": "ipython3",
   "version": "3.12.7"
  }
 },
 "nbformat": 4,
 "nbformat_minor": 4
}
