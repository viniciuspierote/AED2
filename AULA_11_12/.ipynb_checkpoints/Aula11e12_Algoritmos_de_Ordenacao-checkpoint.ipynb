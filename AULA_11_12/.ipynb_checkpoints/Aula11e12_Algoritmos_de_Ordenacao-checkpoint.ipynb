{
 "cells": [
  {
   "cell_type": "markdown",
   "metadata": {},
   "source": [
    "![Algoritmos e Estrutura de Dados II - Prof Piva](AED2_banner.jpg)"
   ]
  },
  {
   "cell_type": "markdown",
   "metadata": {
    "id": "1IKlRd5flk0w"
   },
   "source": [
    "## Aulas 11 e 12 -  Algoritmos de ordenação"
   ]
  },
  {
   "cell_type": "markdown",
   "metadata": {},
   "source": [
    "![Comparação de Algoritmos de Ordenação](algoritmos.png)"
   ]
  },
  {
   "cell_type": "markdown",
   "metadata": {
    "id": "BhUyWEsc0cz0"
   },
   "source": [
    "## Bubble sort  ( O(n**2) )"
   ]
  },
  {
   "cell_type": "code",
   "execution_count": 1,
   "metadata": {
    "id": "lRMwFY0oOSnH"
   },
   "outputs": [],
   "source": [
    "import numpy as np"
   ]
  },
  {
   "cell_type": "code",
   "execution_count": 2,
   "metadata": {
    "id": "shY2E3PiOfm1"
   },
   "outputs": [],
   "source": [
    "def bubble_sort(vetor):\n",
    "  n = len(vetor)\n",
    "\n",
    "  for i in range(n):\n",
    "    for j in range(0, n - i - 1):\n",
    "      if vetor[j] > vetor[j + 1]:\n",
    "        vetor[j], vetor[j + 1] = vetor[j+1], vetor[j]\n",
    "          \n",
    "  return vetor"
   ]
  },
  {
   "cell_type": "code",
   "execution_count": 12,
   "metadata": {
    "colab": {
     "base_uri": "https://localhost:8080/",
     "height": 55
    },
    "id": "0Gq9G-NhPqr1",
    "outputId": "0dac3202-27ed-4558-d5aa-8fe31a06c51a"
   },
   "outputs": [],
   "source": [
    "n = 5000\n",
    "vet = list(np.random.randint(0,1000,n))\n",
    "vetor = vet"
   ]
  },
  {
   "cell_type": "code",
   "execution_count": null,
   "metadata": {},
   "outputs": [],
   "source": [
    "# Vetor não ordenado\n",
    "print(vet)"
   ]
  },
  {
   "cell_type": "code",
   "execution_count": null,
   "metadata": {},
   "outputs": [],
   "source": [
    "%timeit bubble_sort(vet.copy())"
   ]
  },
  {
   "cell_type": "code",
   "execution_count": null,
   "metadata": {},
   "outputs": [],
   "source": [
    "# Vetor ordenado\n",
    "print(vet)"
   ]
  },
  {
   "cell_type": "markdown",
   "metadata": {
    "id": "QQB0s2WA0fIx"
   },
   "source": [
    "## Selection sort    ( O(n**2) )"
   ]
  },
  {
   "cell_type": "code",
   "execution_count": 3,
   "metadata": {
    "id": "qavnRe4rbtJp"
   },
   "outputs": [],
   "source": [
    "def selection_sort(vetor):\n",
    "  n = len(vetor)\n",
    "\n",
    "  for i in range(n):\n",
    "    id_minimo = i\n",
    "    for j in range(i + 1, n):\n",
    "      if vetor[id_minimo] > vetor[j]:\n",
    "        id_minimo = j\n",
    "    temp = vetor[i]\n",
    "    vetor[i] = vetor[id_minimo]\n",
    "    vetor[id_minimo] = temp\n",
    "\n",
    "  return vetor"
   ]
  },
  {
   "cell_type": "code",
   "execution_count": null,
   "metadata": {},
   "outputs": [],
   "source": [
    "n = 5000\n",
    "vet = list(np.random.randint(0,1000,n))"
   ]
  },
  {
   "cell_type": "code",
   "execution_count": null,
   "metadata": {
    "colab": {
     "base_uri": "https://localhost:8080/",
     "height": 55
    },
    "id": "t7OP9mk0cnTw",
    "outputId": "1ce6a17f-8c49-4c07-aa1a-b9f8c5bd29e3"
   },
   "outputs": [],
   "source": [
    "%timeit selection_sort(vet)"
   ]
  },
  {
   "cell_type": "code",
   "execution_count": null,
   "metadata": {
    "colab": {
     "base_uri": "https://localhost:8080/",
     "height": 55
    },
    "id": "XEdhjhuTcp3o",
    "outputId": "f0a0cd29-826d-4d2c-86a6-cc1ad28cd070"
   },
   "outputs": [],
   "source": [
    "# Vetor ordenado\n",
    "print(vet)"
   ]
  },
  {
   "cell_type": "markdown",
   "metadata": {
    "id": "6bxYy8yd93TS"
   },
   "source": [
    "## Insertion sort  (  O(n**2) )"
   ]
  },
  {
   "cell_type": "code",
   "execution_count": 4,
   "metadata": {
    "id": "-ebbVIoMi6Yv"
   },
   "outputs": [],
   "source": [
    "def insertion_sort1(vetor):\n",
    "    n = len(vetor)\n",
    "    \n",
    "    for i in range(1, n):\n",
    "        marcado = vetor[i]\n",
    "        \n",
    "        j = i - 1\n",
    "        while j >= 0 and marcado < vetor[j]:\n",
    "            vetor[j + 1] = vetor[j]\n",
    "            j -= 1\n",
    "        vetor[j + 1] = marcado\n",
    "    \n",
    "    return vetor"
   ]
  },
  {
   "cell_type": "code",
   "execution_count": 5,
   "metadata": {},
   "outputs": [],
   "source": [
    "def insertion_sort2(vetor):\n",
    "    # Percorre cada elemento de L\n",
    "    for i in range(1, len(vetor)):\n",
    "        k = i\n",
    "        # Insere o pivô na posição correta\n",
    "        while k > 0 and vetor[k] < vetor[k-1]:\n",
    "            vetor[k], vetor[k-1] = vetor[k-1], vetor[k]\n",
    "            k = k - 1"
   ]
  },
  {
   "cell_type": "code",
   "execution_count": null,
   "metadata": {},
   "outputs": [],
   "source": [
    "n = 5000\n",
    "vet = list(np.random.randint(0,1000,n))"
   ]
  },
  {
   "cell_type": "code",
   "execution_count": null,
   "metadata": {
    "colab": {
     "base_uri": "https://localhost:8080/",
     "height": 55
    },
    "id": "o_nHlyrfj_wE",
    "outputId": "07d46423-e4f0-45fa-ed9e-68282b5ee618"
   },
   "outputs": [],
   "source": [
    "%timeit insertion_sort1(vet)"
   ]
  },
  {
   "cell_type": "code",
   "execution_count": null,
   "metadata": {},
   "outputs": [],
   "source": [
    "# Vetor ordenado\n",
    "print(vet)"
   ]
  },
  {
   "cell_type": "code",
   "execution_count": null,
   "metadata": {
    "colab": {
     "base_uri": "https://localhost:8080/",
     "height": 55
    },
    "id": "ghjQD8yukBQk",
    "outputId": "d3af354e-b044-4e96-a60b-34c4f06b0f2c"
   },
   "outputs": [],
   "source": [
    "n = 5000\n",
    "vet = list(np.random.randint(0,1000,n))"
   ]
  },
  {
   "cell_type": "code",
   "execution_count": null,
   "metadata": {},
   "outputs": [],
   "source": [
    "%timeit insertion_sort2(vet)"
   ]
  },
  {
   "cell_type": "code",
   "execution_count": null,
   "metadata": {},
   "outputs": [],
   "source": [
    "# Vetor ordenado\n",
    "print(vet)"
   ]
  },
  {
   "cell_type": "markdown",
   "metadata": {
    "id": "1JPOYagK9y4x"
   },
   "source": [
    "## Shell sort  (  O(n**2)  - O(n log n) )"
   ]
  },
  {
   "cell_type": "code",
   "execution_count": 6,
   "metadata": {},
   "outputs": [],
   "source": [
    "# shell sort\n",
    "def shell_sort1(vetor):\n",
    "    n = len(vetor)\n",
    "    h = 1\n",
    "    while h > 0:\n",
    "        for i in range(h, n):\n",
    "            c = vetor[i]\n",
    "            j = i\n",
    "            while j >= h and c < vetor[j - h]:\n",
    "                vetor[j] = vetor[j - h]\n",
    "                j = j - h\n",
    "                vetor[j] = c\n",
    "        h = int(h / 2.2)\n",
    "    return vetor"
   ]
  },
  {
   "cell_type": "code",
   "execution_count": 7,
   "metadata": {
    "id": "XwKeMgLh92R8"
   },
   "outputs": [],
   "source": [
    "def shell_sort2(vetor):\n",
    "  intervalo = len(vetor) // 2\n",
    "\n",
    "  while intervalo > 0:\n",
    "    for i in range(intervalo, len(vetor)):\n",
    "      temp = vetor[i]\n",
    "      j = i\n",
    "      while j >= intervalo and vetor[j - intervalo] > temp:\n",
    "        vetor[j] = vetor[j - intervalo]\n",
    "        j -= intervalo\n",
    "      vetor[j] = temp\n",
    "    intervalo //= 2\n",
    "\n",
    "  return vetor"
   ]
  },
  {
   "cell_type": "code",
   "execution_count": null,
   "metadata": {},
   "outputs": [],
   "source": [
    "n = 5000\n",
    "vet = list(np.random.randint(0,1000,n))"
   ]
  },
  {
   "cell_type": "code",
   "execution_count": null,
   "metadata": {},
   "outputs": [],
   "source": [
    "%timeit shell_sort1(vet)"
   ]
  },
  {
   "cell_type": "code",
   "execution_count": null,
   "metadata": {},
   "outputs": [],
   "source": [
    "n = 5000\n",
    "vet = list(np.random.randint(0,1000,n))"
   ]
  },
  {
   "cell_type": "code",
   "execution_count": null,
   "metadata": {},
   "outputs": [],
   "source": [
    "%timeit shell_sort2(vet)"
   ]
  },
  {
   "cell_type": "code",
   "execution_count": null,
   "metadata": {},
   "outputs": [],
   "source": [
    "# Vetor ordenado\n",
    "print(vet)"
   ]
  },
  {
   "cell_type": "markdown",
   "metadata": {
    "id": "yJP1BYSdODHN"
   },
   "source": [
    "## Quick sort  (  O(n log n)  mas existem casos O(n**2)  )"
   ]
  },
  {
   "cell_type": "code",
   "execution_count": 13,
   "metadata": {
    "id": "PEFV0K5POFYz"
   },
   "outputs": [],
   "source": [
    "def particao(vetor, inicio, final):\n",
    "    pivo = vetor[final]\n",
    "    i = inicio - 1\n",
    "\n",
    "    for j in range(inicio, final):\n",
    "        if vetor[j] <= pivo:\n",
    "            i += 1\n",
    "            vetor[i], vetor[j] = vetor[j], vetor[i]\n",
    "        vetor[i + 1], vetor[final] = vetor[final], vetor[i + 1]\n",
    "    return i + 1\n",
    "\n",
    "def quick_sort(vetor, inicio=0, final=(len(vetor)-1)):\n",
    "    if inicio < final:\n",
    "        posicao = particao(vetor, inicio, final)\n",
    "        # Esquerda\n",
    "        quick_sort(vetor, inicio, posicao - 1)\n",
    "        # Direito\n",
    "        quick_sort(vetor, posicao + 1, final)\n",
    "    return vetor"
   ]
  },
  {
   "cell_type": "code",
   "execution_count": null,
   "metadata": {},
   "outputs": [],
   "source": [
    "n = 5000\n",
    "vet = list(np.random.randint(0,1000,n))"
   ]
  },
  {
   "cell_type": "code",
   "execution_count": null,
   "metadata": {
    "colab": {
     "base_uri": "https://localhost:8080/",
     "height": 55
    },
    "id": "MmWOwh0YQsyx",
    "outputId": "968bedfa-13e2-4b11-9ead-aac869aa1184"
   },
   "outputs": [],
   "source": [
    "%timeit quick_sort(vet)"
   ]
  },
  {
   "cell_type": "code",
   "execution_count": null,
   "metadata": {},
   "outputs": [],
   "source": [
    "# Vetor ordenado\n",
    "print(vet)"
   ]
  },
  {
   "cell_type": "markdown",
   "metadata": {
    "id": "BfJGGiLz4YUz"
   },
   "source": [
    "## Merge sort  ( O(n log n) )"
   ]
  },
  {
   "cell_type": "code",
   "execution_count": 14,
   "metadata": {
    "id": "IAc2EQ6m4Z4l"
   },
   "outputs": [],
   "source": [
    "# merge sort\n",
    "def merge_sort(vetor):\n",
    "    if len(vetor) > 1:\n",
    "        divisao = len(vetor) // 2\n",
    "        esquerda = vetor[:divisao].copy()\n",
    "        direita = vetor[divisao:].copy()\n",
    "\n",
    "        merge_sort(esquerda)\n",
    "        merge_sort(direita)\n",
    "\n",
    "        i, j, k = 0, 0, 0\n",
    "\n",
    "        # Ordena esquerda e direita\n",
    "        while i < len(esquerda) and j < len(direita):\n",
    "            if esquerda[i] < direita[j]:\n",
    "                vetor[k] = esquerda[i]\n",
    "                i += 1\n",
    "            else:\n",
    "                vetor[k] = direita[j]\n",
    "                j += 1\n",
    "            k += 1\n",
    "\n",
    "        # Ordenação final\n",
    "        while i < len(esquerda):\n",
    "            vetor[k] = esquerda[i]\n",
    "            i += 1\n",
    "            k += 1\n",
    "        while j < len(direita):\n",
    "            vetor[k] = direita[j]\n",
    "            j += 1\n",
    "            k += 1\n",
    "    return vetor"
   ]
  },
  {
   "cell_type": "code",
   "execution_count": null,
   "metadata": {
    "colab": {
     "base_uri": "https://localhost:8080/",
     "height": 55
    },
    "id": "Su-6-NP06NIx",
    "outputId": "2c7bc977-5376-48a6-a6a3-254f2c3fb3cd"
   },
   "outputs": [],
   "source": [
    "n = 5000\n",
    "vet = list(np.random.randint(0,1000,n))"
   ]
  },
  {
   "cell_type": "code",
   "execution_count": null,
   "metadata": {
    "colab": {
     "base_uri": "https://localhost:8080/",
     "height": 55
    },
    "id": "eRjM9lo76_UD",
    "outputId": "bac2b231-2c20-455a-96d5-51e137f0b39a"
   },
   "outputs": [],
   "source": [
    "%timeit merge_sort(vet)"
   ]
  },
  {
   "cell_type": "code",
   "execution_count": null,
   "metadata": {},
   "outputs": [],
   "source": [
    "# Vetor ordenado\n",
    "print(vet)"
   ]
  },
  {
   "cell_type": "markdown",
   "metadata": {
    "id": "Kbtwj0qfYhqB"
   },
   "source": [
    "## Comparativo entre algoritmos"
   ]
  },
  {
   "cell_type": "code",
   "execution_count": 15,
   "metadata": {
    "id": "Ljoj29lyYjgl"
   },
   "outputs": [],
   "source": [
    "n = 5000\n",
    "vet = list(np.random.randint(0,1000,n))"
   ]
  },
  {
   "cell_type": "code",
   "execution_count": 16,
   "metadata": {
    "colab": {
     "base_uri": "https://localhost:8080/",
     "height": 55
    },
    "id": "G-sb-1S0Ylgu",
    "outputId": "4dc70b6b-c61d-42ec-fd07-2cf84337a63e"
   },
   "outputs": [
    {
     "data": {
      "text/plain": [
       "list"
      ]
     },
     "execution_count": 16,
     "metadata": {},
     "output_type": "execute_result"
    }
   ],
   "source": [
    "type(vet)"
   ]
  },
  {
   "cell_type": "code",
   "execution_count": 18,
   "metadata": {
    "colab": {
     "base_uri": "https://localhost:8080/",
     "height": 55
    },
    "id": "yLxUXLOVYmAm",
    "outputId": "609062f3-2595-43ae-f49b-f2eda0104571"
   },
   "outputs": [
    {
     "data": {
      "text/plain": [
       "numpy.ndarray"
      ]
     },
     "execution_count": 18,
     "metadata": {},
     "output_type": "execute_result"
    }
   ],
   "source": [
    "vet = np.array(vet)\n",
    "type(vet)"
   ]
  },
  {
   "cell_type": "code",
   "execution_count": 19,
   "metadata": {
    "colab": {
     "base_uri": "https://localhost:8080/",
     "height": 55
    },
    "id": "K69diGx7Yqn1",
    "outputId": "c4fa5c07-ac5f-44d9-d590-f5860a7573cb"
   },
   "outputs": [
    {
     "data": {
      "text/plain": [
       "5000"
      ]
     },
     "execution_count": 19,
     "metadata": {},
     "output_type": "execute_result"
    }
   ],
   "source": [
    "len(vet)"
   ]
  },
  {
   "cell_type": "code",
   "execution_count": 20,
   "metadata": {
    "colab": {
     "base_uri": "https://localhost:8080/",
     "height": 55
    },
    "id": "wnNw4QuAYsP2",
    "outputId": "d32b8541-a95f-477d-c1ff-7288f245b15d"
   },
   "outputs": [
    {
     "name": "stdout",
     "output_type": "stream",
     "text": [
      "2.57 s ± 24.9 ms per loop (mean ± std. dev. of 7 runs, 1 loop each)\n"
     ]
    }
   ],
   "source": [
    "%timeit bubble_sort(vet.copy())"
   ]
  },
  {
   "cell_type": "code",
   "execution_count": 22,
   "metadata": {
    "colab": {
     "base_uri": "https://localhost:8080/",
     "height": 55
    },
    "id": "D9T0jXqWYtzB",
    "outputId": "2de80740-e3f1-4b4c-e4ed-e79ebc271c58"
   },
   "outputs": [
    {
     "name": "stdout",
     "output_type": "stream",
     "text": [
      "1.27 s ± 17.1 ms per loop (mean ± std. dev. of 7 runs, 1 loop each)\n"
     ]
    }
   ],
   "source": [
    "%timeit selection_sort(vet.copy())"
   ]
  },
  {
   "cell_type": "code",
   "execution_count": 23,
   "metadata": {
    "colab": {
     "base_uri": "https://localhost:8080/",
     "height": 55
    },
    "id": "b65zaAFRYvOq",
    "outputId": "88f9d813-a7e3-4b78-f0da-370baf7cc9af"
   },
   "outputs": [
    {
     "name": "stdout",
     "output_type": "stream",
     "text": [
      "1.8 s ± 12.2 ms per loop (mean ± std. dev. of 7 runs, 1 loop each)\n"
     ]
    }
   ],
   "source": [
    "%timeit insertion_sort2(vet.copy())"
   ]
  },
  {
   "cell_type": "code",
   "execution_count": 24,
   "metadata": {
    "colab": {
     "base_uri": "https://localhost:8080/",
     "height": 55
    },
    "id": "z0MzaNo9YxGz",
    "outputId": "368b064c-7447-4dc4-e9a2-b77cfdd2a0fc"
   },
   "outputs": [
    {
     "name": "stdout",
     "output_type": "stream",
     "text": [
      "1.26 s ± 17.1 ms per loop (mean ± std. dev. of 7 runs, 1 loop each)\n"
     ]
    }
   ],
   "source": [
    "%timeit shell_sort1(vet.copy())"
   ]
  },
  {
   "cell_type": "code",
   "execution_count": 25,
   "metadata": {
    "colab": {
     "base_uri": "https://localhost:8080/",
     "height": 55
    },
    "id": "eW6fkdMlYz6F",
    "outputId": "141e2470-1a76-4ee2-b27a-60d13b979df5"
   },
   "outputs": [
    {
     "name": "stdout",
     "output_type": "stream",
     "text": [
      "26.5 ms ± 486 µs per loop (mean ± std. dev. of 7 runs, 10 loops each)\n"
     ]
    }
   ],
   "source": [
    "%timeit quick_sort(vet.copy(), 0, len(vetor) - 1)"
   ]
  },
  {
   "cell_type": "code",
   "execution_count": 26,
   "metadata": {
    "colab": {
     "base_uri": "https://localhost:8080/",
     "height": 55
    },
    "id": "fKil7OuqYymj",
    "outputId": "10ac5d0f-893f-4ad8-9842-c767b7844121"
   },
   "outputs": [
    {
     "name": "stdout",
     "output_type": "stream",
     "text": [
      "18.2 ms ± 553 µs per loop (mean ± std. dev. of 7 runs, 10 loops each)\n"
     ]
    }
   ],
   "source": [
    "%timeit merge_sort(vet.copy())"
   ]
  },
  {
   "cell_type": "markdown",
   "metadata": {},
   "source": [
    "## Fim das Aulas 11 e 12"
   ]
  }
 ],
 "metadata": {
  "colab": {
   "collapsed_sections": [
    "BhUyWEsc0cz0",
    "QQB0s2WA0fIx",
    "6bxYy8yd93TS",
    "1JPOYagK9y4x",
    "BfJGGiLz4YUz",
    "yJP1BYSdODHN"
   ],
   "provenance": []
  },
  "kernelspec": {
   "display_name": "Python 3 (ipykernel)",
   "language": "python",
   "name": "python3"
  },
  "language_info": {
   "codemirror_mode": {
    "name": "ipython",
    "version": 3
   },
   "file_extension": ".py",
   "mimetype": "text/x-python",
   "name": "python",
   "nbconvert_exporter": "python",
   "pygments_lexer": "ipython3",
   "version": "3.11.7"
  }
 },
 "nbformat": 4,
 "nbformat_minor": 4
}
