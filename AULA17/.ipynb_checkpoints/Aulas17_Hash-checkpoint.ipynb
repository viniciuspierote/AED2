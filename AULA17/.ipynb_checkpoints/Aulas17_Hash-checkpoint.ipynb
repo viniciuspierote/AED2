{
 "cells": [
  {
   "cell_type": "markdown",
   "metadata": {},
   "source": [
    "![Algoritmos e Estrutura de Dados II - Prof Piva](AED2_banner.jpg)"
   ]
  },
  {
   "cell_type": "markdown",
   "metadata": {
    "id": "r2ZZwVzmSD9w"
   },
   "source": [
    "## Aulas 17 - Tabela Hash ou Tabela de Dispersão"
   ]
  },
  {
   "cell_type": "markdown",
   "metadata": {},
   "source": [
    "![Imagem Tabela Hash](hash.jpg)"
   ]
  },
  {
   "cell_type": "markdown",
   "metadata": {},
   "source": [
    "Função `hash()` em Pyhton..."
   ]
  },
  {
   "cell_type": "code",
   "execution_count": 29,
   "metadata": {
    "id": "rGIHqLD8WcrS"
   },
   "outputs": [
    {
     "name": "stdout",
     "output_type": "stream",
     "text": [
      "-1347443653587925239\n"
     ]
    }
   ],
   "source": [
    "# Exemplo de string\n",
    "print(hash(\"abc\"))"
   ]
  },
  {
   "cell_type": "code",
   "execution_count": 33,
   "metadata": {},
   "outputs": [
    {
     "name": "stdout",
     "output_type": "stream",
     "text": [
      "-8766153280193728025\n"
     ]
    }
   ],
   "source": [
    "# Exemplo de string numérica\n",
    "print(hash(\"123\"))"
   ]
  },
  {
   "cell_type": "code",
   "execution_count": 35,
   "metadata": {},
   "outputs": [
    {
     "name": "stdout",
     "output_type": "stream",
     "text": [
      "45\n"
     ]
    }
   ],
   "source": [
    "# Exemplo de inteiro\n",
    "print(hash(45))"
   ]
  },
  {
   "cell_type": "code",
   "execution_count": 37,
   "metadata": {},
   "outputs": [
    {
     "name": "stdout",
     "output_type": "stream",
     "text": [
      "45\n"
     ]
    }
   ],
   "source": [
    "# Exemplo de número de ponto flutuante\n",
    "print(hash(45.0))"
   ]
  },
  {
   "cell_type": "code",
   "execution_count": 39,
   "metadata": {},
   "outputs": [
    {
     "name": "stdout",
     "output_type": "stream",
     "text": [
      "691752902764101677\n"
     ]
    }
   ],
   "source": [
    "# Exemplo de outro número de ponto flutuante\n",
    "print(hash(45.3))"
   ]
  },
  {
   "cell_type": "code",
   "execution_count": 47,
   "metadata": {},
   "outputs": [
    {
     "name": "stdout",
     "output_type": "stream",
     "text": [
      "1\n"
     ]
    }
   ],
   "source": [
    "# Exemplo de booleano True\n",
    "print(hash(True))"
   ]
  },
  {
   "cell_type": "code",
   "execution_count": 49,
   "metadata": {},
   "outputs": [
    {
     "name": "stdout",
     "output_type": "stream",
     "text": [
      "0\n"
     ]
    }
   ],
   "source": [
    "# Exemplo de booleano False\n",
    "print(hash(False))"
   ]
  },
  {
   "cell_type": "code",
   "execution_count": 51,
   "metadata": {},
   "outputs": [
    {
     "name": "stdout",
     "output_type": "stream",
     "text": [
      "unhashable type: 'list'\n"
     ]
    }
   ],
   "source": [
    "try:\n",
    "    # Exemplo de lista (imutável)\n",
    "    print(hash([1, 2, 3]))\n",
    "except TypeError as e:\n",
    "    print(e)"
   ]
  },
  {
   "cell_type": "markdown",
   "metadata": {},
   "source": [
    "#### Definindo a Classe HashSet"
   ]
  },
  {
   "cell_type": "code",
   "execution_count": 53,
   "metadata": {},
   "outputs": [],
   "source": [
    "class HashTable:\n",
    "    __PLACEHOLDER = object()  # marcador para remoção\n",
    "    def __init__(self, capacity=10):\n",
    "        self.table = [None] * capacity  # lista de buckets (None, valor ou placeholder)\n",
    "        self.size = 0\n",
    "\n",
    "    def _hash(self, key):\n",
    "        # Exemplo: usa o hash builtin e o módulo do tamanho\n",
    "        return hash(key) % len(self.table)\n",
    "\n",
    "    def insert(self, key, value):\n",
    "        \"\"\"Insere um par (chave, valor) na tabela, tratando colisões por sondagem linear.\"\"\"\n",
    "        idx = self._hash(key)\n",
    "        start = idx\n",
    "        while self.table[idx] is not None and self.table[idx] is not HashTable.__PLACEHOLDER:\n",
    "            existing_key, _ = self.table[idx]\n",
    "            if existing_key == key:\n",
    "                # Atualiza valor para chave existente\n",
    "                self.table[idx] = (key, value)\n",
    "                return\n",
    "            idx = (idx + 1) % len(self.table)  # avança linearmente\n",
    "            if idx == start:\n",
    "                raise Exception(\"Tabela cheia\")\n",
    "        # Insere na posição livre ou placeholder\n",
    "        self.table[idx] = (key, value)\n",
    "        self.size += 1\n",
    "\n",
    "    def search(self, key):\n",
    "        \"\"\"Retorna o valor associado à chave, ou None se não encontrado.\"\"\"\n",
    "        idx = self._hash(key)\n",
    "        start = idx\n",
    "        while self.table[idx] is not None:\n",
    "            if self.table[idx] is not HashTable.__PLACEHOLDER:\n",
    "                existing_key, value = self.table[idx]\n",
    "                if existing_key == key:\n",
    "                    return value\n",
    "            idx = (idx + 1) % len(self.table)\n",
    "            if idx == start:\n",
    "                break\n",
    "        return None\n",
    "\n",
    "    def remove(self, key):\n",
    "        \"\"\"Remove a chave da tabela, usando um placeholder para não quebrar a sondagem.\"\"\"\n",
    "        idx = self._hash(key)\n",
    "        start = idx\n",
    "        while self.table[idx] is not None:\n",
    "            if self.table[idx] is not HashTable.__PLACEHOLDER:\n",
    "                existing_key, _ = self.table[idx]\n",
    "                if existing_key == key:\n",
    "                    self.table[idx] = HashTable.__PLACEHOLDER\n",
    "                    self.size -= 1\n",
    "                    return True\n",
    "            idx = (idx + 1) % len(self.table)\n",
    "            if idx == start:\n",
    "                break\n",
    "        return False\n"
   ]
  },
  {
   "cell_type": "markdown",
   "metadata": {},
   "source": [
    "#### Exemplo de Uso\n",
    "\n",
    "Vamos ver um exemplo de uso da classe HashSet:"
   ]
  },
  {
   "cell_type": "code",
   "execution_count": 55,
   "metadata": {},
   "outputs": [],
   "source": [
    "# Criando uma nova HashTable com 5 posições\n",
    "ht = HashTable(5)"
   ]
  },
  {
   "cell_type": "code",
   "execution_count": 57,
   "metadata": {},
   "outputs": [],
   "source": [
    "# Adicionando itens à HashTable\n",
    "ht.insert(\"aba\", 123)\n",
    "ht.insert(\"cba\", 456)  # suponha que \"aba\" e \"cba\" colidam por este hash simples"
   ]
  },
  {
   "cell_type": "code",
   "execution_count": 59,
   "metadata": {},
   "outputs": [
    {
     "name": "stdout",
     "output_type": "stream",
     "text": [
      "123\n"
     ]
    }
   ],
   "source": [
    "# Buscando um elemento\n",
    "print(ht.search(\"aba\"))  # 123"
   ]
  },
  {
   "cell_type": "code",
   "execution_count": 61,
   "metadata": {},
   "outputs": [
    {
     "data": {
      "text/plain": [
       "True"
      ]
     },
     "execution_count": 61,
     "metadata": {},
     "output_type": "execute_result"
    }
   ],
   "source": [
    "# Removendo um elemento\n",
    "ht.remove(\"aba\")"
   ]
  },
  {
   "cell_type": "code",
   "execution_count": 63,
   "metadata": {},
   "outputs": [
    {
     "name": "stdout",
     "output_type": "stream",
     "text": [
      "None\n"
     ]
    }
   ],
   "source": [
    "# Tentando buscar o elemento removido\n",
    "print(ht.search(\"aba\"))  # None (remoção feita)"
   ]
  },
  {
   "cell_type": "markdown",
   "metadata": {},
   "source": [
    "## Fim da Aula 17"
   ]
  }
 ],
 "metadata": {
  "colab": {
   "provenance": []
  },
  "kernelspec": {
   "display_name": "Python [conda env:base] *",
   "language": "python",
   "name": "conda-base-py"
  },
  "language_info": {
   "codemirror_mode": {
    "name": "ipython",
    "version": 3
   },
   "file_extension": ".py",
   "mimetype": "text/x-python",
   "name": "python",
   "nbconvert_exporter": "python",
   "pygments_lexer": "ipython3",
   "version": "3.12.7"
  }
 },
 "nbformat": 4,
 "nbformat_minor": 4
}
