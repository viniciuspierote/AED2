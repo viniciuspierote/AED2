{
 "cells": [
  {
   "cell_type": "markdown",
   "metadata": {},
   "source": [
    "![Algoritmos e Estrutura de Dados II - Prof Piva](AED2_banner.jpg)"
   ]
  },
  {
   "cell_type": "markdown",
   "metadata": {
    "id": "3L3hMZxPloS9"
   },
   "source": [
    "## Aula 3 - Vetor não ordenado (busca sequencial)"
   ]
  },
  {
   "cell_type": "markdown",
   "metadata": {},
   "source": [
    "### Primeira Implementação (sem OO)"
   ]
  },
  {
   "cell_type": "code",
   "execution_count": null,
   "metadata": {},
   "outputs": [],
   "source": [
    "# Problema: encontre o menor valor de uma lista e retorne seu índice."
   ]
  },
  {
   "cell_type": "code",
   "execution_count": 6,
   "metadata": {},
   "outputs": [],
   "source": [
    "def minimo(lista):\n",
    "    \"\"\"Retorna o índice do item mínimo.\"\"\"\n",
    "    indice_min = 0\n",
    "    indice_atual = 1\n",
    "\n",
    "    while indice_atual < len(lista):\n",
    "        if lista[indice_atual] < lista[indice_min]:\n",
    "            indice_min = indice_atual\n",
    "        indice_atual += 1\n",
    "    return indice_min"
   ]
  },
  {
   "cell_type": "code",
   "execution_count": 8,
   "metadata": {},
   "outputs": [],
   "source": [
    "def minimo2(lista):\n",
    "    minimo = 0\n",
    "    for i in range(len(lista)):\n",
    "        if lista[i] < lista[minimo]:\n",
    "            minimo = i\n",
    "    return minimo"
   ]
  },
  {
   "cell_type": "code",
   "execution_count": 10,
   "metadata": {},
   "outputs": [
    {
     "name": "stdout",
     "output_type": "stream",
     "text": [
      "O índice do valor mínimo é 5 e seu valor é 2 !\n"
     ]
    }
   ],
   "source": [
    "# TESTANDO\n",
    "lista = [10,3,7,34,23,2,21,45,7,23,56,34]\n",
    "i = minimo(lista)\n",
    "print(f\"O índice do valor mínimo é {i} e seu valor é {lista[i]} !\")"
   ]
  },
  {
   "cell_type": "code",
   "execution_count": 12,
   "metadata": {},
   "outputs": [
    {
     "name": "stdout",
     "output_type": "stream",
     "text": [
      "O índice do valor mínimo é 5 e seu valor é 2 !\n"
     ]
    }
   ],
   "source": [
    "# TESTANDO\n",
    "lista = [10,3,7,34,23,2,21,45,7,23,56,34]\n",
    "i = minimo2(lista)\n",
    "print(f\"O índice do valor mínimo é {i} e seu valor é {lista[i]} !\")"
   ]
  },
  {
   "cell_type": "code",
   "execution_count": 6,
   "metadata": {},
   "outputs": [],
   "source": [
    "# PROBLEMA: Encontre o valor v de uma lista e retorne seu índice. Caso não encontre, retorne -1"
   ]
  },
  {
   "cell_type": "code",
   "execution_count": 14,
   "metadata": {},
   "outputs": [],
   "source": [
    "def busca_sequencial(v, lista):\n",
    "    \"\"\"Retorna a posição do item-alvo se encontrado, ou -1 caso contrário.\"\"\"\n",
    "    posicao = 0\n",
    "    while posicao < len(lista):\n",
    "        if v == lista[posicao]:\n",
    "            return posicao\n",
    "        posicao += 1\n",
    "    return -1"
   ]
  },
  {
   "cell_type": "code",
   "execution_count": 16,
   "metadata": {},
   "outputs": [],
   "source": [
    "def busca_sequencial2(v, lista):\n",
    "    for i in range(len(lista)):\n",
    "        if v == lista[i]:\n",
    "            return i\n",
    "    return -1"
   ]
  },
  {
   "cell_type": "code",
   "execution_count": 18,
   "metadata": {},
   "outputs": [
    {
     "name": "stdout",
     "output_type": "stream",
     "text": [
      "O valor 23 foi encontrado na posição 4 !\n"
     ]
    }
   ],
   "source": [
    "# TESTANDO\n",
    "lista = [10,3,7,34,23,2,21,23,12,12,1,3]\n",
    "i = busca_sequencial(23, lista)\n",
    "if i != -1:\n",
    "    print(f\"O valor {lista[i]} foi encontrado na posição {i} !\")\n",
    "else:\n",
    "    print(\"O valor não foi encontrado!\")"
   ]
  },
  {
   "cell_type": "code",
   "execution_count": 20,
   "metadata": {},
   "outputs": [
    {
     "name": "stdout",
     "output_type": "stream",
     "text": [
      "O valor 3 foi encontrado na posição 1 !\n"
     ]
    }
   ],
   "source": [
    "# TESTANDO\n",
    "lista = [10,3,7,34,23,2,21,23,12,12,1,3]\n",
    "i = busca_sequencial2(3, lista)\n",
    "if i != -1:\n",
    "    print(f\"O valor {lista[i]} foi encontrado na posição {i} !\")\n",
    "else:\n",
    "    print(\"O valor não foi encontrado!\")"
   ]
  },
  {
   "cell_type": "code",
   "execution_count": 12,
   "metadata": {},
   "outputs": [],
   "source": [
    "# PROBLEMA: Remover o valor v de uma lista sequencial e reorganize toda a lista. \n",
    "# Caso não encontre, retorne -1. Caso seja removido com sucesso, retorna v"
   ]
  },
  {
   "cell_type": "code",
   "execution_count": 22,
   "metadata": {},
   "outputs": [],
   "source": [
    "def remove_lista_desordenada(v, lista):\n",
    "    \"\"\"Remove o valor 'v' da lista desordenada 'lista'.\"\"\"\n",
    "    if len(lista) == 0:\n",
    "\t # A lista está vazia\n",
    "        return -1\n",
    "\n",
    "    indice = busca_sequencial(v, lista)\n",
    "    \n",
    "    if indice !=  -1:\n",
    "        elemento = lista[indice]\n",
    "        for i in range(indice, len(lista) - 1):\n",
    "            lista[i] = lista[i + 1]\n",
    "        lista.pop()  # remove o último elemento que está duplicado\n",
    "        return elemento\n",
    "    else:\n",
    "        return None"
   ]
  },
  {
   "cell_type": "code",
   "execution_count": 24,
   "metadata": {},
   "outputs": [
    {
     "name": "stdout",
     "output_type": "stream",
     "text": [
      "[10, 3, 7, 34, 23, 2, 21]\n",
      "O valor 23 foi removido da lista!\n",
      "[10, 3, 7, 34, 2, 21]\n"
     ]
    }
   ],
   "source": [
    "# TESTANDO\n",
    "lista = [10,3,7,34,23,2,21]\n",
    "print(lista)\n",
    "n = remove_lista_desordenada(23, lista)\n",
    "if n != -1:\n",
    "    if n == None:\n",
    "        print(\"Elemento não encontrado!\")\n",
    "    else:\n",
    "        print(f\"O valor {n} foi removido da lista!\")\n",
    "        print(lista)\n",
    "else:\n",
    "    print(\"A lista está vazia!\")"
   ]
  },
  {
   "cell_type": "markdown",
   "metadata": {},
   "source": [
    "--------------"
   ]
  },
  {
   "cell_type": "markdown",
   "metadata": {},
   "source": [
    "### Segunda Implementação (com OO)"
   ]
  },
  {
   "cell_type": "code",
   "execution_count": 26,
   "metadata": {
    "id": "ilKOzbksUosx"
   },
   "outputs": [],
   "source": [
    "import numpy as np"
   ]
  },
  {
   "cell_type": "code",
   "execution_count": 28,
   "metadata": {
    "id": "EI9-ginDUr7z"
   },
   "outputs": [],
   "source": [
    "class VetorNaoOrdenado:\n",
    "  def __init__(self, capacidade):\n",
    "    self.capacidade = capacidade\n",
    "    self.ultima_posicao = -1\n",
    "    self.valores = np.empty(self.capacidade, dtype=int)\n",
    "\n",
    "  # O(n)\n",
    "  def imprime(self):\n",
    "    if self.ultima_posicao == -1:\n",
    "      print('O vetor está vazio')\n",
    "    else:\n",
    "      for i in range(self.ultima_posicao + 1):\n",
    "        print(i, ' - ', self.valores[i])\n",
    "\n",
    "  # O(1) - O(2)\n",
    "  def insere(self, valor):\n",
    "    if self.ultima_posicao == self.capacidade - 1:\n",
    "      print('Capacidade máxima atingida')\n",
    "    else:\n",
    "      self.ultima_posicao += 1\n",
    "      self.valores[self.ultima_posicao] = valor\n",
    "\n",
    "  # O(n)\n",
    "  def pesquisar(self, valor):\n",
    "    for i in range(self.ultima_posicao + 1):\n",
    "      if valor == self.valores[i]:\n",
    "        return i\n",
    "    return -1\n",
    "\n",
    "  # O(n)*O(n) = O(n^2)\n",
    "  def excluir(self, valor):\n",
    "    posicao = self.pesquisar(valor)\n",
    "    if posicao == -1:\n",
    "      return -1\n",
    "    else:\n",
    "      for i in range(posicao, self.ultima_posicao):\n",
    "        self.valores[i] = self.valores[i + 1]\n",
    "\n",
    "      self.ultima_posicao -= 1"
   ]
  },
  {
   "cell_type": "code",
   "execution_count": 30,
   "metadata": {
    "id": "v4yb7C3nV5y6"
   },
   "outputs": [],
   "source": [
    "vetor = VetorNaoOrdenado(5)"
   ]
  },
  {
   "cell_type": "code",
   "execution_count": 32,
   "metadata": {
    "colab": {
     "base_uri": "https://localhost:8080/",
     "height": 55
    },
    "id": "1HsqEF2-V-rM",
    "outputId": "ec64b0c0-8969-4525-a554-70414803c373"
   },
   "outputs": [
    {
     "name": "stdout",
     "output_type": "stream",
     "text": [
      "O vetor está vazio\n"
     ]
    }
   ],
   "source": [
    "vetor.imprime()"
   ]
  },
  {
   "cell_type": "code",
   "execution_count": 34,
   "metadata": {
    "id": "6pmM0PjSXFzX"
   },
   "outputs": [],
   "source": [
    "vetor.insere(2)"
   ]
  },
  {
   "cell_type": "code",
   "execution_count": 36,
   "metadata": {
    "colab": {
     "base_uri": "https://localhost:8080/",
     "height": 55
    },
    "id": "OlOBAevAXI6A",
    "outputId": "0dea3224-bd46-4077-b1db-5c8d8324c2c4"
   },
   "outputs": [
    {
     "name": "stdout",
     "output_type": "stream",
     "text": [
      "0  -  2\n"
     ]
    }
   ],
   "source": [
    "vetor.imprime()"
   ]
  },
  {
   "cell_type": "code",
   "execution_count": 38,
   "metadata": {
    "id": "k1oiT4_aXMbK"
   },
   "outputs": [],
   "source": [
    "vetor.insere(3)\n",
    "vetor.insere(5)\n",
    "vetor.insere(8)\n",
    "vetor.insere(1)"
   ]
  },
  {
   "cell_type": "code",
   "execution_count": 40,
   "metadata": {
    "colab": {
     "base_uri": "https://localhost:8080/",
     "height": 108
    },
    "id": "nJFsUmEgXZF9",
    "outputId": "51c2f94f-c345-4892-aa2e-ca681ae329d3"
   },
   "outputs": [
    {
     "name": "stdout",
     "output_type": "stream",
     "text": [
      "0  -  2\n",
      "1  -  3\n",
      "2  -  5\n",
      "3  -  8\n",
      "4  -  1\n"
     ]
    }
   ],
   "source": [
    "vetor.imprime()"
   ]
  },
  {
   "cell_type": "code",
   "execution_count": 42,
   "metadata": {
    "id": "iZ6YDtL6Xcov"
   },
   "outputs": [
    {
     "name": "stdout",
     "output_type": "stream",
     "text": [
      "Capacidade máxima atingida\n"
     ]
    }
   ],
   "source": [
    "vetor.insere(7)"
   ]
  },
  {
   "cell_type": "code",
   "execution_count": 44,
   "metadata": {
    "colab": {
     "base_uri": "https://localhost:8080/",
     "height": 125
    },
    "id": "JyOP4eFwYhfN",
    "outputId": "b399ed2b-3624-4024-aa8c-f80fe2d7ecd0"
   },
   "outputs": [
    {
     "name": "stdout",
     "output_type": "stream",
     "text": [
      "0  -  2\n",
      "1  -  3\n",
      "2  -  5\n",
      "3  -  8\n",
      "4  -  1\n"
     ]
    }
   ],
   "source": [
    "vetor.imprime()"
   ]
  },
  {
   "cell_type": "code",
   "execution_count": 46,
   "metadata": {
    "colab": {
     "base_uri": "https://localhost:8080/",
     "height": 55
    },
    "id": "L_QlGq0rYjow",
    "outputId": "70465286-48d4-4bd9-c94a-6e8c32a0f311"
   },
   "outputs": [
    {
     "data": {
      "text/plain": [
       "3"
      ]
     },
     "execution_count": 46,
     "metadata": {},
     "output_type": "execute_result"
    }
   ],
   "source": [
    "vetor.pesquisar(8)"
   ]
  },
  {
   "cell_type": "code",
   "execution_count": 48,
   "metadata": {
    "colab": {
     "base_uri": "https://localhost:8080/",
     "height": 55
    },
    "id": "KtRasBfUYn6S",
    "outputId": "3a4f35d6-cbde-430a-9228-2d74d96a61d1"
   },
   "outputs": [
    {
     "data": {
      "text/plain": [
       "-1"
      ]
     },
     "execution_count": 48,
     "metadata": {},
     "output_type": "execute_result"
    }
   ],
   "source": [
    "vetor.pesquisar(9)"
   ]
  },
  {
   "cell_type": "code",
   "execution_count": 50,
   "metadata": {
    "colab": {
     "base_uri": "https://localhost:8080/",
     "height": 55
    },
    "id": "xivb2zeIYv__",
    "outputId": "0044f3ca-1520-474b-e162-3be7de1730ef"
   },
   "outputs": [
    {
     "data": {
      "text/plain": [
       "1"
      ]
     },
     "execution_count": 50,
     "metadata": {},
     "output_type": "execute_result"
    }
   ],
   "source": [
    "vetor.pesquisar(3)"
   ]
  },
  {
   "cell_type": "code",
   "execution_count": 52,
   "metadata": {
    "colab": {
     "base_uri": "https://localhost:8080/",
     "height": 55
    },
    "id": "9vqcPNfSXsAj",
    "outputId": "dde8e7da-2943-4fa9-cbd9-33ca3d5aa3cd"
   },
   "outputs": [
    {
     "data": {
      "text/plain": [
       "4"
      ]
     },
     "execution_count": 52,
     "metadata": {},
     "output_type": "execute_result"
    }
   ],
   "source": [
    "vetor.ultima_posicao"
   ]
  },
  {
   "cell_type": "code",
   "execution_count": 54,
   "metadata": {
    "colab": {
     "base_uri": "https://localhost:8080/",
     "height": 125
    },
    "id": "GFbxRV5taey2",
    "outputId": "ef61aca5-0eb6-43e0-d00e-4d60e9e5a93f"
   },
   "outputs": [
    {
     "name": "stdout",
     "output_type": "stream",
     "text": [
      "0  -  2\n",
      "1  -  3\n",
      "2  -  5\n",
      "3  -  8\n",
      "4  -  1\n"
     ]
    }
   ],
   "source": [
    "vetor.imprime()"
   ]
  },
  {
   "cell_type": "code",
   "execution_count": 56,
   "metadata": {
    "id": "tMHP6K4OahTh"
   },
   "outputs": [],
   "source": [
    "vetor.excluir(5)"
   ]
  },
  {
   "cell_type": "code",
   "execution_count": 58,
   "metadata": {
    "colab": {
     "base_uri": "https://localhost:8080/",
     "height": 108
    },
    "id": "JGKY0EbeamIS",
    "outputId": "19d42360-0b8e-4e11-8aa9-a4fd929669f8"
   },
   "outputs": [
    {
     "name": "stdout",
     "output_type": "stream",
     "text": [
      "0  -  2\n",
      "1  -  3\n",
      "2  -  8\n",
      "3  -  1\n"
     ]
    }
   ],
   "source": [
    "vetor.imprime()"
   ]
  },
  {
   "cell_type": "code",
   "execution_count": 60,
   "metadata": {
    "colab": {
     "base_uri": "https://localhost:8080/",
     "height": 90
    },
    "id": "PQT1rygGap15",
    "outputId": "45cb57fb-148d-42a9-bdf6-0a21d8f01643"
   },
   "outputs": [
    {
     "name": "stdout",
     "output_type": "stream",
     "text": [
      "0  -  2\n",
      "1  -  3\n",
      "2  -  8\n"
     ]
    }
   ],
   "source": [
    "vetor.excluir(1)\n",
    "vetor.imprime()"
   ]
  },
  {
   "cell_type": "code",
   "execution_count": 62,
   "metadata": {
    "colab": {
     "base_uri": "https://localhost:8080/",
     "height": 72
    },
    "id": "Zhnv-0YhazPW",
    "outputId": "1b444192-54b2-4d82-dcbf-7d2d72bc2fbf"
   },
   "outputs": [
    {
     "name": "stdout",
     "output_type": "stream",
     "text": [
      "0  -  3\n",
      "1  -  8\n"
     ]
    }
   ],
   "source": [
    "vetor.excluir(2)\n",
    "vetor.imprime()"
   ]
  },
  {
   "cell_type": "code",
   "execution_count": 64,
   "metadata": {
    "colab": {
     "base_uri": "https://localhost:8080/",
     "height": 108
    },
    "id": "HsXhksvFa4AX",
    "outputId": "00a0d22d-66ce-4269-e7d2-b63359602b9a"
   },
   "outputs": [
    {
     "name": "stdout",
     "output_type": "stream",
     "text": [
      "0  -  3\n",
      "1  -  8\n",
      "2  -  5\n",
      "3  -  1\n"
     ]
    }
   ],
   "source": [
    "vetor.insere(5)\n",
    "vetor.insere(1)\n",
    "vetor.imprime()"
   ]
  },
  {
   "cell_type": "markdown",
   "metadata": {},
   "source": [
    "## Fim da Aula 4"
   ]
  }
 ],
 "metadata": {
  "colab": {
   "provenance": []
  },
  "kernelspec": {
   "display_name": "Python [conda env:base] *",
   "language": "python",
   "name": "conda-base-py"
  },
  "language_info": {
   "codemirror_mode": {
    "name": "ipython",
    "version": 3
   },
   "file_extension": ".py",
   "mimetype": "text/x-python",
   "name": "python",
   "nbconvert_exporter": "python",
   "pygments_lexer": "ipython3",
   "version": "3.12.7"
  }
 },
 "nbformat": 4,
 "nbformat_minor": 4
}
